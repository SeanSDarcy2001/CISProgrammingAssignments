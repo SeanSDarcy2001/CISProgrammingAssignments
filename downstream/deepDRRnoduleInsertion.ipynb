{
  "nbformat": 4,
  "nbformat_minor": 0,
  "metadata": {
    "colab": {
      "name": "deepDRRnoduleInsertion.ipynb",
      "provenance": [],
      "authorship_tag": "ABX9TyOUZPmO1p6dVG4/FWOQ72Pl",
      "include_colab_link": true
    },
    "kernelspec": {
      "name": "python3",
      "display_name": "Python 3"
    },
    "language_info": {
      "name": "python"
    },
    "accelerator": "GPU"
  },
  "cells": [
    {
      "cell_type": "markdown",
      "metadata": {
        "id": "view-in-github",
        "colab_type": "text"
      },
      "source": [
        "<a href=\"https://colab.research.google.com/github/SeanSDarcy2001/CISProgrammingAssignments/blob/main/downstream/deepDRRnoduleInsertion.ipynb\" target=\"_parent\"><img src=\"https://colab.research.google.com/assets/colab-badge.svg\" alt=\"Open In Colab\"/></a>"
      ]
    },
    {
      "cell_type": "code",
      "source": [
        "pip install deepdrr"
      ],
      "metadata": {
        "colab": {
          "base_uri": "https://localhost:8080/"
        },
        "id": "-s29LmvyoR1m",
        "outputId": "37471f3c-af69-4200-eebc-cc1548b16f16"
      },
      "execution_count": 1,
      "outputs": [
        {
          "output_type": "stream",
          "name": "stdout",
          "text": [
            "Collecting deepdrr\n",
            "  Downloading deepdrr-1.1.0a4-py3-none-any.whl (14.7 MB)\n",
            "\u001b[K     |████████████████████████████████| 14.7 MB 14.6 MB/s \n",
            "\u001b[?25hCollecting rich\n",
            "  Downloading rich-12.3.0-py3-none-any.whl (232 kB)\n",
            "\u001b[K     |████████████████████████████████| 232 kB 10.0 MB/s \n",
            "\u001b[?25hRequirement already satisfied: scipy in /usr/local/lib/python3.7/dist-packages (from deepdrr) (1.4.1)\n",
            "Requirement already satisfied: torch in /usr/local/lib/python3.7/dist-packages (from deepdrr) (1.11.0+cu113)\n",
            "Collecting pycuda\n",
            "  Downloading pycuda-2021.1.tar.gz (1.7 MB)\n",
            "\u001b[K     |████████████████████████████████| 1.7 MB 12.4 MB/s \n",
            "\u001b[?25h  Installing build dependencies ... \u001b[?25l\u001b[?25hdone\n",
            "  Getting requirements to build wheel ... \u001b[?25l\u001b[?25hdone\n",
            "    Preparing wheel metadata ... \u001b[?25l\u001b[?25hdone\n",
            "Collecting pydicom\n",
            "  Downloading pydicom-2.3.0-py3-none-any.whl (2.0 MB)\n",
            "\u001b[K     |████████████████████████████████| 2.0 MB 58.3 MB/s \n",
            "\u001b[?25hCollecting colorlog\n",
            "  Downloading colorlog-6.6.0-py2.py3-none-any.whl (11 kB)\n",
            "Requirement already satisfied: scikit-image in /usr/local/lib/python3.7/dist-packages (from deepdrr) (0.18.3)\n",
            "Requirement already satisfied: torchvision in /usr/local/lib/python3.7/dist-packages (from deepdrr) (0.12.0+cu113)\n",
            "Requirement already satisfied: nibabel in /usr/local/lib/python3.7/dist-packages (from deepdrr) (3.0.2)\n",
            "Collecting pyvista\n",
            "  Downloading pyvista-0.34.1-py3-none-any.whl (1.4 MB)\n",
            "\u001b[K     |████████████████████████████████| 1.4 MB 52.9 MB/s \n",
            "\u001b[?25hCollecting pynrrd\n",
            "  Downloading pynrrd-0.4.2-py2.py3-none-any.whl (18 kB)\n",
            "Requirement already satisfied: numpy in /usr/local/lib/python3.7/dist-packages (from deepdrr) (1.21.6)\n",
            "Collecting pytools>=2011.2\n",
            "  Downloading pytools-2022.1.5.tar.gz (68 kB)\n",
            "\u001b[K     |████████████████████████████████| 68 kB 9.1 MB/s \n",
            "\u001b[?25hRequirement already satisfied: appdirs>=1.4.0 in /usr/local/lib/python3.7/dist-packages (from pycuda->deepdrr) (1.4.4)\n",
            "Collecting mako\n",
            "  Downloading Mako-1.2.0-py3-none-any.whl (78 kB)\n",
            "\u001b[K     |████████████████████████████████| 78 kB 9.0 MB/s \n",
            "\u001b[?25hCollecting platformdirs>=2.2.0\n",
            "  Downloading platformdirs-2.5.2-py3-none-any.whl (14 kB)\n",
            "Requirement already satisfied: typing_extensions>=4.0 in /usr/local/lib/python3.7/dist-packages (from pytools>=2011.2->pycuda->deepdrr) (4.2.0)\n",
            "Requirement already satisfied: importlib-metadata in /usr/local/lib/python3.7/dist-packages (from mako->pycuda->deepdrr) (4.11.3)\n",
            "Requirement already satisfied: MarkupSafe>=0.9.2 in /usr/local/lib/python3.7/dist-packages (from mako->pycuda->deepdrr) (2.0.1)\n",
            "Requirement already satisfied: zipp>=0.5 in /usr/local/lib/python3.7/dist-packages (from importlib-metadata->mako->pycuda->deepdrr) (3.8.0)\n",
            "Collecting vtk\n",
            "  Downloading vtk-9.1.0-cp37-cp37m-manylinux_2_17_x86_64.manylinux2014_x86_64.whl (88.3 MB)\n",
            "\u001b[K     |████████████████████████████████| 88.3 MB 110 kB/s \n",
            "\u001b[?25hRequirement already satisfied: pillow in /usr/local/lib/python3.7/dist-packages (from pyvista->deepdrr) (7.1.2)\n",
            "Requirement already satisfied: imageio in /usr/local/lib/python3.7/dist-packages (from pyvista->deepdrr) (2.4.1)\n",
            "Collecting scooby>=0.5.1\n",
            "  Downloading scooby-0.5.12-py3-none-any.whl (14 kB)\n",
            "Collecting commonmark<0.10.0,>=0.9.0\n",
            "  Downloading commonmark-0.9.1-py2.py3-none-any.whl (51 kB)\n",
            "\u001b[K     |████████████████████████████████| 51 kB 9.2 MB/s \n",
            "\u001b[?25hRequirement already satisfied: pygments<3.0.0,>=2.6.0 in /usr/local/lib/python3.7/dist-packages (from rich->deepdrr) (2.6.1)\n",
            "Requirement already satisfied: PyWavelets>=1.1.1 in /usr/local/lib/python3.7/dist-packages (from scikit-image->deepdrr) (1.3.0)\n",
            "Requirement already satisfied: matplotlib!=3.0.0,>=2.0.0 in /usr/local/lib/python3.7/dist-packages (from scikit-image->deepdrr) (3.2.2)\n",
            "Requirement already satisfied: networkx>=2.0 in /usr/local/lib/python3.7/dist-packages (from scikit-image->deepdrr) (2.6.3)\n",
            "Requirement already satisfied: tifffile>=2019.7.26 in /usr/local/lib/python3.7/dist-packages (from scikit-image->deepdrr) (2021.11.2)\n",
            "Requirement already satisfied: kiwisolver>=1.0.1 in /usr/local/lib/python3.7/dist-packages (from matplotlib!=3.0.0,>=2.0.0->scikit-image->deepdrr) (1.4.2)\n",
            "Requirement already satisfied: python-dateutil>=2.1 in /usr/local/lib/python3.7/dist-packages (from matplotlib!=3.0.0,>=2.0.0->scikit-image->deepdrr) (2.8.2)\n",
            "Requirement already satisfied: cycler>=0.10 in /usr/local/lib/python3.7/dist-packages (from matplotlib!=3.0.0,>=2.0.0->scikit-image->deepdrr) (0.11.0)\n",
            "Requirement already satisfied: pyparsing!=2.0.4,!=2.1.2,!=2.1.6,>=2.0.1 in /usr/local/lib/python3.7/dist-packages (from matplotlib!=3.0.0,>=2.0.0->scikit-image->deepdrr) (3.0.8)\n",
            "Requirement already satisfied: six>=1.5 in /usr/local/lib/python3.7/dist-packages (from python-dateutil>=2.1->matplotlib!=3.0.0,>=2.0.0->scikit-image->deepdrr) (1.15.0)\n",
            "Requirement already satisfied: requests in /usr/local/lib/python3.7/dist-packages (from torchvision->deepdrr) (2.23.0)\n",
            "Requirement already satisfied: urllib3!=1.25.0,!=1.25.1,<1.26,>=1.21.1 in /usr/local/lib/python3.7/dist-packages (from requests->torchvision->deepdrr) (1.24.3)\n",
            "Requirement already satisfied: idna<3,>=2.5 in /usr/local/lib/python3.7/dist-packages (from requests->torchvision->deepdrr) (2.10)\n",
            "Requirement already satisfied: chardet<4,>=3.0.2 in /usr/local/lib/python3.7/dist-packages (from requests->torchvision->deepdrr) (3.0.4)\n",
            "Requirement already satisfied: certifi>=2017.4.17 in /usr/local/lib/python3.7/dist-packages (from requests->torchvision->deepdrr) (2021.10.8)\n",
            "Collecting wslink>=1.0.4\n",
            "  Downloading wslink-1.6.0-py3-none-any.whl (22 kB)\n",
            "Collecting aiohttp\n",
            "  Downloading aiohttp-3.8.1-cp37-cp37m-manylinux_2_5_x86_64.manylinux1_x86_64.manylinux_2_12_x86_64.manylinux2010_x86_64.whl (1.1 MB)\n",
            "\u001b[K     |████████████████████████████████| 1.1 MB 60.9 MB/s \n",
            "\u001b[?25hRequirement already satisfied: attrs>=17.3.0 in /usr/local/lib/python3.7/dist-packages (from aiohttp->wslink>=1.0.4->vtk->pyvista->deepdrr) (21.4.0)\n",
            "Collecting aiosignal>=1.1.2\n",
            "  Downloading aiosignal-1.2.0-py3-none-any.whl (8.2 kB)\n",
            "Collecting frozenlist>=1.1.1\n",
            "  Downloading frozenlist-1.3.0-cp37-cp37m-manylinux_2_5_x86_64.manylinux1_x86_64.manylinux_2_17_x86_64.manylinux2014_x86_64.whl (144 kB)\n",
            "\u001b[K     |████████████████████████████████| 144 kB 64.0 MB/s \n",
            "\u001b[?25hCollecting multidict<7.0,>=4.5\n",
            "  Downloading multidict-6.0.2-cp37-cp37m-manylinux_2_17_x86_64.manylinux2014_x86_64.whl (94 kB)\n",
            "\u001b[K     |████████████████████████████████| 94 kB 4.4 MB/s \n",
            "\u001b[?25hRequirement already satisfied: charset-normalizer<3.0,>=2.0 in /usr/local/lib/python3.7/dist-packages (from aiohttp->wslink>=1.0.4->vtk->pyvista->deepdrr) (2.0.12)\n",
            "Collecting asynctest==0.13.0\n",
            "  Downloading asynctest-0.13.0-py3-none-any.whl (26 kB)\n",
            "Collecting yarl<2.0,>=1.0\n",
            "  Downloading yarl-1.7.2-cp37-cp37m-manylinux_2_5_x86_64.manylinux1_x86_64.manylinux_2_12_x86_64.manylinux2010_x86_64.whl (271 kB)\n",
            "\u001b[K     |████████████████████████████████| 271 kB 76.7 MB/s \n",
            "\u001b[?25hCollecting async-timeout<5.0,>=4.0.0a3\n",
            "  Downloading async_timeout-4.0.2-py3-none-any.whl (5.8 kB)\n",
            "Building wheels for collected packages: pycuda, pytools\n",
            "  Building wheel for pycuda (PEP 517) ... \u001b[?25l\u001b[?25hdone\n",
            "  Created wheel for pycuda: filename=pycuda-2021.1-cp37-cp37m-linux_x86_64.whl size=626634 sha256=96c3d28e36b37b884d0f4da710cbe58a72f57e5f1ee8b929275306ea2c612ecd\n",
            "  Stored in directory: /root/.cache/pip/wheels/c4/ef/49/dc6a5feb8d980b37c83d465ecab24949a6aa19458522a9e001\n",
            "  Building wheel for pytools (setup.py) ... \u001b[?25l\u001b[?25hdone\n",
            "  Created wheel for pytools: filename=pytools-2022.1.5-py2.py3-none-any.whl size=64596 sha256=d45dac67475ab9e1deb7408391f2f4cf72ea674f50442527bfb04765386014fc\n",
            "  Stored in directory: /root/.cache/pip/wheels/10/a4/a2/e42c3619d996670485ad2116d212c6521d4a1e3db7f0c20891\n",
            "Successfully built pycuda pytools\n",
            "Installing collected packages: multidict, frozenlist, yarl, asynctest, async-timeout, aiosignal, aiohttp, wslink, platformdirs, vtk, scooby, pytools, mako, commonmark, rich, pyvista, pynrrd, pydicom, pycuda, colorlog, deepdrr\n",
            "Successfully installed aiohttp-3.8.1 aiosignal-1.2.0 async-timeout-4.0.2 asynctest-0.13.0 colorlog-6.6.0 commonmark-0.9.1 deepdrr-1.1.0a4 frozenlist-1.3.0 mako-1.2.0 multidict-6.0.2 platformdirs-2.5.2 pycuda-2021.1 pydicom-2.3.0 pynrrd-0.4.2 pytools-2022.1.5 pyvista-0.34.1 rich-12.3.0 scooby-0.5.12 vtk-9.1.0 wslink-1.6.0 yarl-1.7.2\n"
          ]
        }
      ]
    },
    {
      "cell_type": "code",
      "source": [
        "from google.colab import drive\n",
        "drive.mount('gdrive/')\n",
        "nodulePath = \"gdrive/My Drive/deepDRR_3dseg/SegNod3.nii.gz\"\n",
        "CTPath = \"gdrive/My Drive/deepDRR_3dseg/thinSTtorso.nii.gz\"\n",
        "lungSegPath = \"gdrive/My Drive/deepDRR_3dseg/lungSeg.nii.gz\""
      ],
      "metadata": {
        "colab": {
          "base_uri": "https://localhost:8080/"
        },
        "id": "ZfJRTcDwTO-P",
        "outputId": "6a92636b-68c3-4591-fc89-0f6b42a24f96"
      },
      "execution_count": 2,
      "outputs": [
        {
          "output_type": "stream",
          "name": "stdout",
          "text": [
            "Drive already mounted at gdrive/; to attempt to forcibly remount, call drive.mount(\"gdrive/\", force_remount=True).\n"
          ]
        }
      ]
    },
    {
      "cell_type": "code",
      "execution_count": 36,
      "metadata": {
        "colab": {
          "base_uri": "https://localhost:8080/"
        },
        "id": "9JmMHbNuoFNW",
        "outputId": "3219c2d4-09e2-4388-eee4-6bf3ac19f17f"
      },
      "outputs": [
        {
          "output_type": "stream",
          "name": "stdout",
          "text": [
            "[ -29.334618 -165.73108  -246.12163     1.      ]\n"
          ]
        }
      ],
      "source": [
        "import deepdrr\n",
        "from deepdrr import Volume, geo\n",
        "import numpy as np\n",
        "from scipy.spatial.transform import Rotation as R\n",
        "import random\n",
        "\n",
        "random.seed(9)\n",
        "#nodulesToInsert = #random int (0 - 6)\n",
        "\n",
        "NodPath = nodulePath\n",
        "OrganPath = lungSegPath\n",
        "CTPath = CTPath\n",
        "carm = deepdrr.MobileCArm()\n",
        "\n",
        "def getNodule(path) -> Volume :\n",
        "    nodule = Volume.from_nifti(path)\n",
        "    return nodule\n",
        "\n",
        "def getOrgan(path) -> Volume :\n",
        "    organ = Volume.from_nifti(path)\n",
        "    return organ\n",
        "\n",
        "def scaleNodule(x) -> Volume :\n",
        "    scaleFactor = random.uniform(0.0, 2.0)\n",
        "    scaleMatrix = np.array([[scaleFactor, 0.0, 0.0, 0.0], [0.0, scaleFactor, 0.0, 0.0], [0.0, 0.0, scaleFactor, 0.0], [0.0, 0.0, 0.0, 1.0]])\n",
        "    scaling = geo.FrameTransform(scaleMatrix)\n",
        "    x.world_from_anatomical = scaling @ x.world_from_anatomical\n",
        "    return x\n",
        "\n",
        "\n",
        "    raise NotImplementedError\n",
        "    #scale function?\n",
        "    #edit values in world from anatomical OR anatomical from world\n",
        "    #ijk from anatomical should be const\n",
        "\n",
        "\n",
        "def rotNodule(x) -> Volume :\n",
        "    rotation = R.random()\n",
        "    x = x.rotate(rotation)\n",
        "    return x\n",
        "\n",
        "#modified np.all\n",
        "def _contains__(org, x: geo.Point3D) -> bool:\n",
        "        \"\"\"Determine whether the point x is inside the volume.\n",
        "        Args:\n",
        "            x (geo.Point3D)world': [-1346.4464, -65.99151, 8.187973], 'fractured': False,\n",
        "                             'cortical_breach': 'TODO'}: world-space point.\n",
        "        \"\"\"\n",
        "        x_ijk = org.ijk_from_world @ geo.point(x)\n",
        "        return np.all(0 <= np.array(x_ijk).all() <= np.array(org.shape) - 1)\n",
        "\n",
        "def insertNodule(org) :\n",
        "    boundingBox = org.get_bounding_box_in_world()\n",
        "    pointInOrgan = False\n",
        "    while not pointInOrgan == True:\n",
        "        x = random.choice(np.linspace(boundingBox[0][0], boundingBox[1][0], 1000))\n",
        "        y = random.choice(np.linspace(boundingBox[0][1], boundingBox[1][1], 1000))\n",
        "        z = random.choice(np.linspace(boundingBox[0][2], boundingBox[1][2], 1000))\n",
        "        point = geo.point(np.array([x, y, z]))\n",
        "\n",
        "        pointInOrgan = _contains__(org, point)\n",
        "    \n",
        "    #x = randomly sample point in bounding box, if bounding box is circuscribed about segmentation, check if point is within organ still, if not sample anothe point (while)\n",
        "    #output volume object\n",
        "    #when passed to the projector\n",
        "    \n",
        "    #x = x.translate_center_to(point), will do outside\n",
        "    x = point\n",
        "    print(x)\n",
        "    return x\n",
        "\n",
        "\n",
        "\n",
        "##main here \n",
        "#for each segmented CT volume, insert nodulesToInsert\n",
        "\n",
        "nodule = getNodule(NodPath)\n",
        "\n",
        "#organ and CT can use same method?\n",
        "organ = getOrgan(OrganPath)\n",
        "#ct = getOrgan(CTPath)\n",
        "\n",
        "#rotate, scale, and translate a nodule\n",
        "nodule = rotNodule(nodule)\n",
        "#print(nodule)\n",
        "nodule = scaleNodule(nodule)\n",
        "#print(nodule)\n",
        "point = insertNodule(organ)\n",
        "nodule.translate_center_to(point)\n",
        "#print(nodule)\n",
        "\n",
        "\n",
        "#figure out how to move carm to main view \n",
        "#carm.move_to(**main_view)\n",
        "carm.move_to(alpha=30, beta=10, degrees=True)\n",
        "#start up the projectors\n",
        "volume_projector = deepdrr.Projector([organ, nodule], carm=carm) #what is **self.seg_projector_config #add ct before nodule when not in collab\n",
        "gt_projector = deepdrr.Projector(nodule, carm=carm)\n",
        "\n",
        "volume_projector.initialize()\n",
        "gt_projector.initialize()\n",
        "\n",
        "\n",
        "\n",
        "\n",
        "\n",
        "#get image\n",
        "image = volume_projector()\n",
        "\n",
        "#get ground truth and mask\n",
        "nodule_heatmap = gt_projector()\n",
        "nodule_mask = np.where(nodule_heatmap > 0, 1, 0).astype(np.float32)"
      ]
    },
    {
      "cell_type": "code",
      "source": [
        "import matplotlib.pyplot as plt\n",
        "\n",
        "plt.imshow(image, cmap='gray')\n",
        "plt.show()\n",
        "\n",
        "plt.imshow(nodule_heatmap, cmap='gray')\n",
        "plt.show()\n",
        "\n",
        "plt.imshow(nodule_mask, cmap='gray')\n",
        "plt.show()"
      ],
      "metadata": {
        "id": "GE8dwpBwkWZ2",
        "outputId": "9a30cc98-5d06-4ee5-ba27-81ec6259e901",
        "colab": {
          "base_uri": "https://localhost:8080/",
          "height": 773
        }
      },
      "execution_count": 33,
      "outputs": [
        {
          "output_type": "display_data",
          "data": {
            "text/plain": [
              "<Figure size 432x288 with 1 Axes>"
            ],
            "image/png": "[encoded data removed]"
          },
          "metadata": {
            "needs_background": "light"
          }
        },
        {
          "output_type": "display_data",
          "data": {
            "text/plain": [
              "<Figure size 432x288 with 1 Axes>"
            ],
            "image/png": "[encoded data removed]"
          },
          "metadata": {
            "needs_background": "light"
          }
        },
        {
          "output_type": "display_data",
          "data": {
            "text/plain": [
              "<Figure size 432x288 with 1 Axes>"
            ],
            "image/png": "[encoded data removed]"
          },
          "metadata": {
            "needs_background": "light"
          }
        }
      ]
    }
  ]
}