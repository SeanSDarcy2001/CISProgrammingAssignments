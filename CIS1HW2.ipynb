{
  "nbformat": 4,
  "nbformat_minor": 0,
  "metadata": {
    "colab": {
      "name": "CIS1HW1.ipynb",
      "provenance": [],
      "include_colab_link": true
    },
    "kernelspec": {
      "name": "python3",
      "display_name": "Python 3"
    },
    "language_info": {
      "name": "python"
    }
  },
  "cells": [
    {
      "cell_type": "markdown",
      "metadata": {
        "id": "view-in-github",
        "colab_type": "text"
      },
      "source": [
        "<a href=\"https://colab.research.google.com/github/SeanSDarcy2001/CISProgrammingAssignments/blob/main/CIS1HW2.ipynb\" target=\"_parent\"><img src=\"https://colab.research.google.com/assets/colab-badge.svg\" alt=\"Open In Colab\"/></a>"
      ]
    },
    {
      "cell_type": "markdown",
      "metadata": {
        "id": "0DY3yzQMfGUT"
      },
      "source": [
        "# Computer Integrated Surgery: Programming Assignment 1\n",
        "\n",
        "Alexandra Szewc\n",
        "\n",
        "aszewc1\n",
        "\n",
        "Seby Darcy\n",
        "\n",
        "sdarcy2"
      ]
    },
    {
      "cell_type": "markdown",
      "metadata": {
        "id": "JasEza5Xu34r"
      },
      "source": [
        "# Import Modules"
      ]
    },
    {
      "cell_type": "code",
      "metadata": {
        "id": "x21cE6IYHizO"
      },
      "source": [
        "import csv\n",
        "import numpy as np\n",
        "import pandas as pd\n",
        "import matplotlib.pyplot as plt\n",
        "\n",
        "from google.colab import files\n",
        "from mpl_toolkits.mplot3d import Axes3D\n",
        "from scipy.optimize import least_squares"
      ],
      "execution_count": 1,
      "outputs": []
    },
    {
      "cell_type": "markdown",
      "metadata": {
        "id": "o5R7ZOsnfTYl"
      },
      "source": [
        "## PART 1\n",
        "Develop (or develop proficiency with) a Cartesian math package for 3D points, rotations, and frame transformations."
      ]
    },
    {
      "cell_type": "code",
      "metadata": {
        "id": "kKUvhEhy0WX6"
      },
      "source": [
        "## use package to represent 3D points\n",
        "p1    = np.array([-1489., -4913.,  4345.])\n",
        "p2    = np.array([ 2633., -3268.,  5249.])\n",
        "pcalc = np.array([-3210., -4390.,  3930.])\n",
        "\n",
        "def norm(v):\n",
        "    return v / np.sqrt(np.dot(v, v))"
      ],
      "execution_count": 2,
      "outputs": []
    },
    {
      "cell_type": "code",
      "metadata": {
        "id": "OdMB1Qv3FUx-"
      },
      "source": [
        "## use packages to represent 3D rotations\n",
        "def identity():\n",
        "  return np.array([[1, 0,  0], [0, 1, 0], [0, 0, 1]])\n",
        "\n",
        "# generate skew matrix from 1x3 array \n",
        "def skew(v) :\n",
        "  skewArg = norm(v)\n",
        "  ax = skewArg[0]\n",
        "  ay = skewArg[1]\n",
        "  az = skewArg[2]\n",
        "  skew = np.array([[0,    -az,  ay],\n",
        "                   [az,   0,    -ax],\n",
        "                   [-ay,  ax,   0]])\n",
        "  return skew\n",
        "\n",
        "# generate 3D Rotation matrix\n",
        "# @Params: alpha, beta, gamma - Rotation angles about the x, y, and z axes respectively\n",
        "# @Returns: 3D Rotation matrix\n",
        "def RotfromAngles(alpha, beta, gamma) :\n",
        "  Rx = np.array([[1, 0,  0], [0, np.cos(alpha), -np.sin(alpha)], [0, np.sin(alpha), np.cos(alpha)]])\n",
        "  Ry = np.array([[np.cos(beta), 0,  np.sin(beta)], [0, 1, 0], [-np.sin(beta), 0, np.cos(beta)]])\n",
        "  Rz = np.array([[np.cos(gamma), -np.sin(gamma),  0], [np.sin(gamma), np.cos(gamma), 0], [0, 0, 1]])\n",
        "  R = RotfromComponents(Rx, Ry, Rz)\n",
        "  return R\n",
        "\n",
        "def smallAngleR(v, theta) :\n",
        "  n = norm(v)\n",
        "  return (identity() + skew(theta * n))\n",
        "\n",
        "def RotfromComponents(Rx, Ry, Rz) :\n",
        "  R = np.dot(np.dot(Rx, Ry), Rz)\n",
        "  return R\n",
        "\n",
        "# convert 3D vector into 4D homogeneous coords\n",
        "def homogenousVector(v, scale) :\n",
        "  Vx = scale * v[0]\n",
        "  Vy = scale * v[1]\n",
        "  Vz = scale * v[2]\n",
        "  return np.array([Vx, Vy, Vz, scale])"
      ],
      "execution_count": 3,
      "outputs": []
    },
    {
      "cell_type": "code",
      "metadata": {
        "id": "cdJdE1GGFaod"
      },
      "source": [
        "## use packages to represent 3D frame transformations\n",
        "\n",
        "class Frame:\n",
        "  \n",
        "  def __init__(self, R, p):\n",
        "    self.R = R\n",
        "    self.p = p\n",
        "    self.F = self.getFrame()\n",
        "\n",
        "  # define Frame using Rotation and Translation\n",
        "  # @Params: Rotation R and Translation p\n",
        "  # @Return: Frame\n",
        "  def getFrame(self):\n",
        "    F = np.row_stack((np.column_stack((self.R, self.p)),\n",
        "                      [0,0,0,1]))\n",
        "    return F\n",
        "\n",
        "  # applies frame transformation to vector\n",
        "  # @Params: Frame F and Vector v\n",
        "  # @Return: transformed vector\n",
        "  def appFrame(self, v):\n",
        "    return np.dot(self.F, v)\n",
        "\n",
        "  # applies inverse frame transformation to vector\n",
        "  # @Params: Frame F and Vector v\n",
        "  # @Return: transformed vector\n",
        "  def appInvFrame(self, v):\n",
        "    Finv = Frame(self.R.T, - (np.dot(self.R.T, self.p)))\n",
        "    return np.dot(Finv.getFrame(), v)"
      ],
      "execution_count": 4,
      "outputs": []
    },
    {
      "cell_type": "markdown",
      "metadata": {
        "id": "H-8qLOF9uku7"
      },
      "source": [
        "# Test Module\n",
        "\n",
        "Test module to verify performance of Frame data structure."
      ]
    },
    {
      "cell_type": "code",
      "metadata": {
        "id": "xqIYirVpuhtw",
        "colab": {
          "base_uri": "https://localhost:8080/"
        },
        "outputId": "aaca9d88-1efb-4b56-fd98-69d05425dd56"
      },
      "source": [
        "# Rotation test\n",
        "R = RotfromAngles(0, 1, 0)\n",
        "print(R)\n",
        "\n",
        "# Transform test\n",
        "p = np.array([5, 7, 9])\n",
        "F = Frame(R, p)\n",
        "print(F.getFrame())\n",
        "\n",
        "one_t = np.array([[0,0,0],[1,0,0],[0,1,0]])\n",
        "two_t = np.array([[0,0,1], [1,0,1],[0,0,2]])\n",
        "\n",
        "# Transformation is 90 degree rot over x and +1 translation on z\n",
        "# Tested here\n",
        "R = RotfromAngles(90, 0, 0)\n",
        "p = (0,0,1)\n",
        "F = Frame(R, p)\n",
        "n = homogenousVector(one_t[0],1)\n",
        "print((n))\n",
        "print(F.appFrame(n))"
      ],
      "execution_count": 5,
      "outputs": [
        {
          "output_type": "stream",
          "name": "stdout",
          "text": [
            "[[ 0.54030231  0.          0.84147098]\n",
            " [ 0.          1.          0.        ]\n",
            " [-0.84147098  0.          0.54030231]]\n",
            "[[ 0.54030231  0.          0.84147098  5.        ]\n",
            " [ 0.          1.          0.          7.        ]\n",
            " [-0.84147098  0.          0.54030231  9.        ]\n",
            " [ 0.          0.          0.          1.        ]]\n",
            "[0 0 0 1]\n",
            "[0. 0. 1. 1.]\n"
          ]
        }
      ]
    },
    {
      "cell_type": "markdown",
      "metadata": {
        "id": "bRkQybOwfc7k"
      },
      "source": [
        "## PART 2\n",
        "\n",
        "Develop a 3D point set to 3D point set registration algorithm"
      ]
    },
    {
      "cell_type": "code",
      "metadata": {
        "id": "MAuew8xl6gfb"
      },
      "source": [
        "# Function to compute transformation between two point\n",
        "# clouds of known correspondance using SVD (for fun).\n",
        "# @Params:  a - first point cloud\n",
        "#           b - second point cloud\n",
        "# @Returns: Frame(R, p) - a Frame transform from a to b\n",
        "#\n",
        "# K. Arun, et. al., IEEE PAMI, Vol 9, no 5, pp 698-700, Sept 1987 \n",
        "def rigid_registration_Arun(a, b):\n",
        "    a = a.T\n",
        "    b = b.T\n",
        "\n",
        "    # Calculate and subtract means\n",
        "    a_c = np.expand_dims(np.mean(a, axis = 1), axis=1)\n",
        "    b_c = np.expand_dims(np.mean(b, axis = 1), axis=1)\n",
        "    A = a - a_c\n",
        "    B = b - b_c\n",
        "\n",
        "    # Compute SVD\n",
        "    H = np.dot(A, B.T)\n",
        "    U, X, V_t = np.linalg.svd(H)\n",
        "    R = np.dot(V_t.T, U.T)\n",
        "    if (np.allclose(np.linalg.det(R), 1)):\n",
        "        p = b_c - np.matmul(R, a_c)\n",
        "        return Frame(R, p)\n",
        "    elif (np.allclose(np.linalg.det(R), -1)):\n",
        "        assert 0 in H\n",
        "        V = V_t.T\n",
        "        V[:,2] = np.negative(V[:,2])\n",
        "        R = np.dot(V, U.T)\n",
        "        p = b_c - np.matmul(R, a_c)\n",
        "    return Frame(R, p)"
      ],
      "execution_count": 6,
      "outputs": []
    },
    {
      "cell_type": "code",
      "metadata": {
        "id": "iqhsG9sR5p71"
      },
      "source": [
        "# Function to compute transformation between two point\n",
        "# clouds of known correspondance. 3D registration.\n",
        "# @Params:  a - first point cloud\n",
        "#           b - second point cloud\n",
        "# @Returns: Frame(R, p) - a Frame transform from a to b\n",
        "def rigid_registration(a, b):\n",
        "    a = a.T\n",
        "    b = b.T\n",
        "\n",
        "    # Calculate and subtract means\n",
        "    a_c = np.expand_dims(np.mean(a, axis = 1), axis=1)\n",
        "    b_c = np.expand_dims(np.mean(b, axis = 1), axis=1)\n",
        "    A = a - a_c\n",
        "    B = b - b_c\n",
        "\n",
        "    # Compute H\n",
        "    H = np.dot(A, B.T)\n",
        "    delta = np.array([[H[1][2] - H[2][1],\n",
        "                       H[2][0] - H[0][2],\n",
        "                       H[0][1] - H[1][0]]]).T\n",
        "\n",
        "    G = np.row_stack((\n",
        "        np.column_stack(( np.trace(H), delta.T )),\n",
        "        np.column_stack(( delta, (H + H.T - np.trace(H)*np.eye(3)) ))\n",
        "                      ))\n",
        "    l, Q = np.linalg.eig(G)\n",
        "    qi = np.argmax(l)\n",
        "\n",
        "    # Quarternion for rotation\n",
        "    q = Q[:,qi]\n",
        "    R = np.array([[q[0]**2 + q[1]**2 - q[2]**2 - q[3]**2,\n",
        "                   2*(q[1]*q[2] - q[0]*q[3]),\n",
        "                   2*(q[1]*q[3] + q[0]*q[2])],\n",
        "                  \n",
        "                  [2*(q[1]*q[2] + q[0]*q[3]),\n",
        "                   q[0]**2 - q[1]**2 + q[2]**2 - q[3]**2,\n",
        "                   2*(q[2]*q[3] - q[0]*q[1])],\n",
        "\n",
        "                  [2*(q[1]*q[3] - q[0]*q[2]),\n",
        "                   2*(q[2]*q[3] + q[0]*q[1]),\n",
        "                   q[0]**2 - q[1]**2 - q[2]**2 + q[3]**2]])\n",
        "    \n",
        "    p = b_c - np.matmul(R, a_c)\n",
        "    return Frame(R, p)"
      ],
      "execution_count": 7,
      "outputs": []
    },
    {
      "cell_type": "markdown",
      "metadata": {
        "id": "2AaG5ilrt2-X"
      },
      "source": [
        "# Test Module\n",
        "\n",
        "Test module for 3D-registration."
      ]
    },
    {
      "cell_type": "code",
      "metadata": {
        "colab": {
          "base_uri": "https://localhost:8080/"
        },
        "id": "IsvWQyYVfB1a",
        "outputId": "f098bc90-99af-41ca-90c9-8e6c913ea297"
      },
      "source": [
        "# TEST MODULE FOR 3D REGISTRATION\n",
        "# Two sets of points to check 3D-3D registration\n",
        "one_t = np.array([[0,0,0],[1,0,0],[0,1,0]])\n",
        "two_t = np.array([[0,0,1], [1,0,1],[0,0,2]])\n",
        "\n",
        "reg = rigid_registration(one_t, two_t)\n",
        "res = np.dot(reg.R, one_t.T) + reg.p\n",
        "if np.allclose(res, two_t.T):\n",
        "    print(\"Success!\")\n",
        "else:\n",
        "    print(\"Registration failed.\")"
      ],
      "execution_count": 8,
      "outputs": [
        {
          "output_type": "stream",
          "name": "stdout",
          "text": [
            "Success!\n"
          ]
        }
      ]
    },
    {
      "cell_type": "markdown",
      "metadata": {
        "id": "bncF6qwcDNLi"
      },
      "source": [
        "## PART 3\n",
        "\n",
        "Develop a “pivot” calibration method\n",
        "\n",
        "Yaniv 2015 <https://dx.doi.org/10.1117/12.2081348>"
      ]
    },
    {
      "cell_type": "code",
      "metadata": {
        "id": "kpKJSayXDazr"
      },
      "source": [
        "# Function to perform sphere-fitting pivot calibration.\n",
        "# @Params:  frames - the N X 4 X 4 ndarray of frames to perform calibration\n",
        "# @Returns: list of the following:\n",
        "#           ptr_o  - 3-Dimensional pointer offset 1 X 3 ndarray\n",
        "#           ptr_p  - coordinates of the pivot point 1 X 3 ndarray\n",
        "#           err    - RMS error about centroid of pivot\n",
        "def pivotCalibration(frames) :\n",
        "    err = -1.0\n",
        "    trans = frames[:, 0:3, 3]\n",
        "\n",
        "    # Find pivot point in world coordinates using sphere fitting\n",
        "    pivot = np.concatenate([np.mean(trans, axis=0), np.zeros(1)])\n",
        "\n",
        "    # Compute least squares optimization for unknown point\n",
        "    x_s = trans[:, 0]\n",
        "    y_s = trans[:, 1]\n",
        "    z_s = trans[:, 2]\n",
        "    res = least_squares(func, pivot,\n",
        "                        bounds=((-np.inf, -np.inf, -np.inf, -np.inf),\n",
        "                                (np.inf, np.inf, np.inf, np.inf)),\n",
        "                        jac='3-point',\n",
        "                        args=(x_s, y_s, z_s))\n",
        "\n",
        "    ptr_p = res.x[0:3]\n",
        "\n",
        "    # Calculate mean offset\n",
        "    offsets = np.zeros((frames.shape[0], 3))\n",
        "\n",
        "    rot = frames[:, 0:3, 0:3]\n",
        "    for i, rot in enumerate(rot):\n",
        "        offsets[i] = rot.transpose() @ (ptr_p - trans[i])\n",
        "    ptr_o = np.mean(offsets, axis=0)\n",
        "\n",
        "    # Calculate residual error (root mean square error)\n",
        "    x_v = np.concatenate([ptr_o, ptr_p],axis=0).reshape((6, 1))\n",
        "    num = frames.shape[0]\n",
        "\n",
        "    # Concatenate rotation and -I for each frame\n",
        "    a_0 = (frames[:, 0:3, 0:3]).reshape((3*num,3))\n",
        "    a_1 = (np.eye(3) * -1.0).reshape((1, 3, 3)).repeat(num, 0).reshape((3*num,3))\n",
        "    a_v = np.concatenate((a_0, a_1), axis=1)\n",
        "\n",
        "    # -1 * translation for each frame\n",
        "    b_v = (frames[:, 0:3, 3] * -1.0).reshape(((3*num,1)))\n",
        "\n",
        "    # Compute residuals\n",
        "    resid = (np.dot(a_v, x_v) - b_v)\n",
        "    err = np.sqrt(np.mean(resid * resid))\n",
        "\n",
        "    return [ptr_o, ptr_p, err]\n",
        "\n",
        "# Function to calculate distance of given\n",
        "# points from center and radius given\n",
        "# by the pivot.\n",
        "def func(pvt, x_s, y_s, z_s):\n",
        "    # Calculate distance from given center\n",
        "    dist = np.sqrt((x_s - pvt[0])**2 +\n",
        "                      (y_s - pvt[1])**2 +\n",
        "                      (z_s - pvt[2])**2)\n",
        "\n",
        "    return dist - pvt[3]"
      ],
      "execution_count": 9,
      "outputs": []
    },
    {
      "cell_type": "markdown",
      "metadata": {
        "id": "aLY6aefvoEHC"
      },
      "source": [
        "# File I/O Methods"
      ]
    },
    {
      "cell_type": "code",
      "metadata": {
        "id": "ivaakJaoi16y"
      },
      "source": [
        "# Function to read the data file for registration point locations.\n",
        "# @Params:  name     - name of data set being used\n",
        "# @Returns: list of the following:\n",
        "#           d_coords - coordinates of d N_D X 3 ndarray\n",
        "#           a_coords - coordinates of a N_A X 3 ndarray\n",
        "#           c_coords - coordinates of c N_C X 3 ndarray\n",
        "def read_calbody(name):\n",
        "    path = \"https://raw.githubusercontent.com/SeanSDarcy2001/CISProgrammingAssignments/main/data/\" + name + \"-calbody.txt\"\n",
        "    dat = pd.read_csv(path)\n",
        "\n",
        "    N_D, N_A, N_C, FILE = dat.columns\n",
        "    N_D = int(N_D)\n",
        "    N_A = int(N_A) + N_D\n",
        "    N_C = int(N_C) + N_A\n",
        "\n",
        "    dat = dat.to_numpy()\n",
        "    d_coords = dat[0:N_D,   0:3]\n",
        "    a_coords = dat[N_D:N_A, 0:3]\n",
        "    c_coords = dat[N_A:N_C, 0:3]\n",
        "\n",
        "    # Outputs marker types x marker points x coords\n",
        "    return [d_coords, a_coords, c_coords]\n",
        "\n",
        "# Function to read the data file for caibration readings.\n",
        "# @Params:  name     - name of data set being used\n",
        "# @Returns: list of the following:\n",
        "#           D_coords - coordinates of D F X N_D X 3 ndarray\n",
        "#           A_coords - coordinates of A F X N_A X 3 ndarray\n",
        "#           C_coords - coordinates of C F X N_C X 3 ndarray\n",
        "def read_calreadings(name):\n",
        "    path = \"https://raw.githubusercontent.com/SeanSDarcy2001/CISProgrammingAssignments/main/data/\" + name + \"-calreadings.txt\"\n",
        "    dat = pd.read_csv(path)\n",
        "\n",
        "    N_D, N_A, N_C, N_F, FILE = dat.columns\n",
        "    N_D = int(N_D)\n",
        "    N_A = int(N_A) + N_D\n",
        "    N_C = int(N_C) + N_A\n",
        "    N_F = int(float(N_F))\n",
        "\n",
        "    dat = dat.to_numpy()\n",
        "    D_coords = np.array([dat[0:N_D,   0:3]])\n",
        "    A_coords = np.array([dat[N_D:N_A, 0:3]])\n",
        "    C_coords = np.array([dat[N_A:N_C, 0:3]])\n",
        "    for n in range(1, N_F):\n",
        "        D_coords = np.append(D_coords,\n",
        "                  np.array([dat[((n*N_C)):((n*N_C) + N_D),       0:3]]),\n",
        "                  axis=0)\n",
        "        A_coords = np.append(A_coords,\n",
        "                  np.array([dat[((n*N_C) + N_D):((n*N_C) + N_A), 0:3]]),\n",
        "                  axis=0)\n",
        "        C_coords = np.append(C_coords,\n",
        "                  np.array([dat[((n*N_C) + N_A):((n*N_C) + N_C), 0:3]]),\n",
        "                  axis=0)\n",
        "\n",
        "    # Outputs marker types x frames x marker points x coords\n",
        "    return [D_coords, A_coords, C_coords]\n",
        "\n",
        "# Function to read the data file for the EM probe.\n",
        "# @Params:  name     - name of data set being used\n",
        "# @Returns: list of the following:\n",
        "#           G_coords - coordinates of G F X N X 3 ndarray\n",
        "def read_empivot(name):\n",
        "    path = \"https://raw.githubusercontent.com/SeanSDarcy2001/CISProgrammingAssignments/main/data/\" + name + \"-empivot.txt\"\n",
        "    dat = pd.read_csv(path)\n",
        "\n",
        "    N_G, N_F, FILE = dat.columns\n",
        "    N_G = int(N_G)\n",
        "    N_F = int(float(N_F))\n",
        "\n",
        "    dat = dat.to_numpy()\n",
        "    G_coords = np.array([dat[0:N_G,   0:3]])\n",
        "    for n in range(1, N_F):\n",
        "        G_coords = np.append(G_coords,\n",
        "                  np.array([dat[((n*N_G)):((n*N_G) + N_G),       0:3]]),\n",
        "                  axis=0)\n",
        "\n",
        "    # Outputs marker types x frames x marker points x coords\n",
        "    return [G_coords]\n",
        "\n",
        "# Function to read the data file for the optical probe.\n",
        "# @Params:  name     - name of data set being used\n",
        "# @Returns: list of the following:\n",
        "#           D_coords - coordinates of D F X N X 3 ndarray\n",
        "#           H_coords - coordinates of H F X N X 3 ndarray\n",
        "def read_optpivot(name):\n",
        "    path = \"https://raw.githubusercontent.com/SeanSDarcy2001/CISProgrammingAssignments/main/data/\" + name + \"-optpivot.txt\"\n",
        "    dat = pd.read_csv(path)\n",
        "\n",
        "    N_D, N_H, N_F, FILE = dat.columns\n",
        "    N_D = int(N_D)\n",
        "    N_H = int(N_H) + N_D\n",
        "    N_F = int(float(N_F))\n",
        "\n",
        "    dat = dat.to_numpy()\n",
        "    D_coords = np.array([dat[0:N_D,   0:3]])\n",
        "    H_coords = np.array([dat[N_D:N_H, 0:3]])\n",
        "    for n in range(1, N_F):\n",
        "        D_coords = np.append(D_coords,\n",
        "                  np.array([dat[((n*N_H)):((n*N_H) + N_D),       0:3]]),\n",
        "                  axis=0)\n",
        "        H_coords = np.append(H_coords,\n",
        "                  np.array([dat[((n*N_H) + N_D):((n*N_H) + N_H), 0:3]]),\n",
        "                  axis=0)\n",
        "\n",
        "    # Outputs list of marker types x frames x marker points x coords\n",
        "    return [D_coords, H_coords]\n",
        "\n",
        "# Function to read output of debug data set.\n",
        "# @Params:  name   - name of data set being used\n",
        "# @Returns: list of the following:\n",
        "#           em_pt  - coordinates of the EM probe 1 X 3 ndarray\n",
        "#           opt_pt - coordinates of the optical probe 1 X 3 ndarray\n",
        "#           c_exp - coordinates of the expected values of C F X N X 3 ndarray\n",
        "def read_output(name):\n",
        "    path = \"https://raw.githubusercontent.com/SeanSDarcy2001/CISProgrammingAssignments/main/data/\" + name + \"-output1.txt\"\n",
        "    dat = pd.read_csv(path)\n",
        "\n",
        "    N_C, N_F, FILE = dat.columns\n",
        "    N_C = int(N_C)\n",
        "    N_F = int(float(N_F))\n",
        "\n",
        "    dat = dat.to_numpy()\n",
        "    em_probe = np.array(dat[0, 0:3])\n",
        "    opt_probe = np.array(dat[1, 0:3])\n",
        "    C_coords = np.array([dat[2:2+N_C, 0:3]])\n",
        "    for n in range(1, N_F):\n",
        "        C_coords = np.append(C_coords,\n",
        "                             np.array([dat[((2+n*N_C)):((2+n*N_C) + N_C), 0:3]]),\n",
        "                             axis=0)\n",
        "\n",
        "    # Outputs list of em_probe, opt_probe, frames x marker points x coords\n",
        "    return [em_probe, opt_probe, C_coords]\n",
        "\n",
        "# Function to write all output data to a text file.\n",
        "# @Params: name   - name of the file\n",
        "#          em_pt  - coordinates of the EM probe 1 X 3 ndarray\n",
        "#          opt_pt - coordinates of the optical probe 1 X 3 ndarray\n",
        "#          c_exp - coordinates of the expected values of C F X N X 3 ndarray\n",
        "def write_output(name, em_pt, opt_pt, C_exp):\n",
        "    path = name + '-output1.txt'\n",
        "    with open(path, 'w') as f:\n",
        "        f.write('{}, {}, {}\\n'.format(C_exp.shape[1], C_exp.shape[0], path))\n",
        "        cw = csv.writer(f, delimiter=',')\n",
        "        cw.writerow(em_pt)\n",
        "        cw.writerow(opt_pt)\n",
        "        for frame in range(C_exp.shape[0]):\n",
        "            for marker in range(C_exp.shape[1]):\n",
        "                cw.writerow(C_exp[frame][marker])\n",
        "    files.download(path)"
      ],
      "execution_count": 10,
      "outputs": []
    },
    {
      "cell_type": "markdown",
      "metadata": {
        "id": "U-23nGKo8-Xi"
      },
      "source": [
        "## Part 4\n",
        "\n",
        "Given a distortion calibration data set, as described above, compute the “expected” values $\\overrightarrow{C_i}^{(expected)}$ for the $\\overrightarrow{C_i}$:\n",
        "\n",
        "a. For each calibration data frame $[\\overrightarrow{D_1}, ..., \\overrightarrow{D_{N_D}}, \\overrightarrow{A_1}, ..., \\overrightarrow{A_{N_A}}, \\overrightarrow{C_1}, ..., \\overrightarrow{C_{N_C}}]$, compute the transformation between optical tracker $F_D$ and EM tracker coordinates. I.e., compute a frame $F_D$ such that $\\overrightarrow{D_j} = F_D \\cdot \\overrightarrow{d_j}$.\n",
        "\n",
        "b. Similarly, compute a transformation $F_A$ between calibration object and optical tracker coordinates. I.e., $\\overrightarrow{A_j} = F_A \\cdot \\overrightarrow{a_j}$.\n",
        "\n",
        "c. Given $F_D$ and $F_A$, compute $\\overrightarrow{C_i}^{(expected)} = F_D^{-1} \\cdot F_A \\cdot \\overrightarrow{c_j}$.\n",
        "\n",
        "d. Output $\\overrightarrow{C_i}^{(expected)}$ (see file formats below)"
      ]
    },
    {
      "cell_type": "code",
      "metadata": {
        "id": "RLOwBkmVK8E1"
      },
      "source": [
        "# Function to compute the expected values of C.\n",
        "# @Params: name   - name of data set being used\n",
        "#          save   - whether or not the output file is to be saved\n",
        "#          em_pt  - coordinates of the EM probe\n",
        "#          opt_pt - coordinates of the optical probe\n",
        "# @Returns: c_exp - coordinates of the expected values of C\n",
        "def give_C_exp(name, save=False,\n",
        "               em_pt=np.array([0,0,0]),\n",
        "               opt_pt=np.array([0,0,0])):\n",
        "    # Prepare arrays\n",
        "    calibration_data_frames = read_calreadings(name)\n",
        "    D = calibration_data_frames[0]\n",
        "    A = calibration_data_frames[1]\n",
        "    C = calibration_data_frames[2]\n",
        "    nf = D.shape[0]\n",
        "\n",
        "    tracker_coordinates = read_calbody(name)\n",
        "    em_tracker = tracker_coordinates[0]\n",
        "    opt_tracker = tracker_coordinates[1]\n",
        "    c_vec = tracker_coordinates[2]\n",
        "\n",
        "    C_exp = np.zeros((nf, c_vec.shape[0], 3))\n",
        "    for f in range(nf):\n",
        "\n",
        "        # Compute the transformation between optical\n",
        "        # tracker F_D and EM tracker coordinates\n",
        "        F_D = rigid_registration(em_tracker, D[f])\n",
        "\n",
        "        # Compute the transformation between calibration\n",
        "        # object F_D and optical tracker coordinates\n",
        "        F_A = rigid_registration(opt_tracker, A[f])\n",
        "\n",
        "        # # Compute C_exp\n",
        "        C_exp_temp = np.zeros((1,4))\n",
        "        for nc in range(c_vec.shape[0]):\n",
        "            c_j = np.array([F_D.appInvFrame(F_A.appFrame(homogenousVector(c_vec[nc,:],1)))])\n",
        "            C_exp_temp = np.append(C_exp_temp, c_j, axis=0)\n",
        "        C_exp[f] = C_exp_temp[1:,0:3]\n",
        "    if (save):\n",
        "        write_output(name, em_pt, opt_pt, C_exp)\n",
        "    return C_exp"
      ],
      "execution_count": 11,
      "outputs": []
    },
    {
      "cell_type": "markdown",
      "metadata": {
        "id": "Yew_jLso-81O"
      },
      "source": [
        "## Part 5\n",
        "\n",
        "Apply the EM tracking data to perform a pivot calibration for the EM probe and determine the position relative to the EM tracker base coordinate system of the dimple in the calibration post. The suggested procedure is as follows.\n",
        "\n",
        "a. Use the first “frame” of pivot calibration data to define a local “probe” coordinate system and use this to compute $\\overrightarrow{g_j}$. One simple method is as follows. First compute the midpoint of the observed points\n",
        "$$\n",
        "\\overrightarrow{G_0} = \\frac{1}{N_G} \\sum \\overrightarrow{G_j}\n",
        "$$\n",
        "Then translate the observations relative to this midpoint. I.e., compute\n",
        "$$\n",
        "\\overrightarrow{g_j} = \\overrightarrow{G_j} - \\overrightarrow{G_0}\n",
        "$$\n",
        "There are alternative methods, many of which involve rotating $\\overrightarrow{g_j}$. But this isn’t particularly critical. Your pivot calibration will determine a tip coordinates $\\overrightarrow{t_G}$ defined in the same probe coordinate system. I.e., if $F_G(t)$ gives the position and orientation of the pointer body at time $t$ with respect to some tracker coordinate system, then $F_G(t) \\cdot \\overrightarrow{t_G}$ gives the coordinates of the pointer tip with respect to the same tracker coordinate system.\n",
        "\n",
        "b. For each “frame” of pivot data, compute a transformation such that $\\overrightarrow{G_j} = F_G[k] \\cdot \\overrightarrow{g_j}$.\n",
        "\n",
        "c. Now use the method discussed in class to solve the system\n",
        "$$\n",
        "\\overrightarrow{P}_{dimple} = F_G[k] \\cdot \\overrightarrow{t_G}\n",
        "$$"
      ]
    },
    {
      "cell_type": "code",
      "metadata": {
        "id": "VfVdAsbGjP2P"
      },
      "source": [
        "# Function to apply EM tracking data to perform a pivot calibration\n",
        "# of the EM tracking probe.\n",
        "# @Params: name    - name of data set being used\n",
        "# @Returns: em_pts - coordinates of EM probe wr/ EM tracker\n",
        "def em_pivot_calibration(name):\n",
        "    em_data = read_empivot(name)\n",
        "    G = em_data[0]\n",
        "    nf = G.shape[0]\n",
        "    ng = G.shape[1]\n",
        "\n",
        "    # Use the first \"frame\" of pivot calibration data to define\n",
        "    # a local \"probe\" coordinate system.\n",
        "    first_frame = G[0]\n",
        "    G_0 = np.zeros((1, 3))\n",
        "    for j in range(ng):\n",
        "        G_0 += first_frame[j]\n",
        "    G_0 /= ng\n",
        "\n",
        "    # Now compute g_j\n",
        "    g = np.zeros((ng, 3))\n",
        "    for j in range(ng):\n",
        "        g[j] = first_frame[j] - G_0\n",
        "\n",
        "    # Compute F_G transforms using rigid registration\n",
        "    F_G = np.zeros((1, 4, 4))\n",
        "    for k in range(nf):\n",
        "        F_G = np.append(F_G,\n",
        "                        np.array([rigid_registration(g, G[k]).getFrame()]),\n",
        "                        axis=0)\n",
        "    em_pt = (pivotCalibration(F_G[1:,:,:]))[1]\n",
        "    return em_pt"
      ],
      "execution_count": 12,
      "outputs": []
    },
    {
      "cell_type": "markdown",
      "metadata": {
        "id": "3d-bsQld_Cah"
      },
      "source": [
        "## Part 6\n",
        "\n",
        "Apply the optical tracking data to perform a pivot calibration of the optical tracking probe. The suggested method is the same as above except that you should first use your value for $F_D$ to transform the optical tracker beacon positions into EM tracker coordinates. Note that the optical tracker may not be in exactly the same position and orientation with respect to the EM tracker base for each observation frame of optical tracker data, so this is an important step."
      ]
    },
    {
      "cell_type": "code",
      "metadata": {
        "id": "myF8UpHojO9X"
      },
      "source": [
        "# Function to apply optical tracking data to perform a pivot calibration\n",
        "# of the optical tracking probe.\n",
        "# @Params: name     - name of data set being used\n",
        "# @Returns: opt_pts - coordinates of optical probe wr/ optical tracker\n",
        "def opt_pivot_calibration(name):\n",
        "    opt_data = read_optpivot(name)\n",
        "    tracker_coordinates = read_calbody(name)\n",
        "    em_tracker = tracker_coordinates[0]\n",
        "    \n",
        "    D = opt_data[0]\n",
        "    H = opt_data[1]\n",
        "    nf = D.shape[0]\n",
        "    nd = D.shape[1]\n",
        "    nh = H.shape[1]\n",
        "\n",
        "    # Use F_D value to transform H's into EM coordinates\n",
        "    for k in range(nf):\n",
        "        F_D = rigid_registration(em_tracker, D[k])\n",
        "        for j in range(nh):\n",
        "            H[k][j] = (F_D.appInvFrame(homogenousVector(H[k][j], 1))[:3])\n",
        "\n",
        "    # Use the first \"frame\" of pivot calibration data to define\n",
        "    # a local \"probe\" coordinate system.\n",
        "    first_frame = H[0]\n",
        "\n",
        "    H_0 = np.zeros((1, 3))\n",
        "    for j in range(nh):\n",
        "        H_0 += first_frame[j]\n",
        "    H_0 /= nh\n",
        "\n",
        "    # Now compute h_j\n",
        "    h = np.zeros((nh, 3))\n",
        "    for j in range(nh):\n",
        "        h[j] = first_frame[j] - H_0\n",
        "\n",
        "    # Compute F_H transforms using rigid registration\n",
        "    F_H = np.zeros((1, 4, 4))\n",
        "    for k in range(nf):\n",
        "        F_H = np.append(F_H,\n",
        "                        np.array([rigid_registration(h, H[k]).getFrame()]),\n",
        "                        axis=0)\n",
        "\n",
        "    opt_pt = (pivotCalibration(F_H[1:,:,:]))[1]\n",
        "    return opt_pt"
      ],
      "execution_count": 13,
      "outputs": []
    },
    {
      "cell_type": "markdown",
      "metadata": {
        "id": "331A4I-SVAH4"
      },
      "source": [
        "# Output Test\n",
        "\n",
        "Performs comparison between output files and computed output."
      ]
    },
    {
      "cell_type": "code",
      "metadata": {
        "id": "IgBa70YIVB_4"
      },
      "source": [
        "# Function to test similarity between given\n",
        "# output file, computed output values. Outputs\n",
        "# correctness based on error parameter.\n",
        "# @Params: true - list of em and opt coordinates and C_exp values\n",
        "#                 for all frames and markers from given output\n",
        "#          comp - list of em and opt coordinates and C_exp values\n",
        "#                 for all frames and markers from computed output\n",
        "#          err  - maximum difference between any coordinate for an\n",
        "#                 output to be considered correct\n",
        "def test_similarity(true, comp, err):\n",
        "    # Given coordinates\n",
        "    em_pt_t = true[0]\n",
        "    opt_pt_t = true[1]\n",
        "    c_exp_t = true[2]\n",
        "\n",
        "    # Computed coordinates\n",
        "    em_pt_c = comp[0]\n",
        "    opt_pt_c = comp[1]\n",
        "    c_exp_c = comp[2]\n",
        "\n",
        "    # Checking EM probe\n",
        "    print('Estimated post position with\\\n",
        "    EM probe pivot calibration: ')\n",
        "    if (np.all(np.fabs(em_pt_t - em_pt_c) < err)):\n",
        "        print('Correct!\\n')\n",
        "    else:\n",
        "        print('Out of bounds\\n')\n",
        "\n",
        "    # Checking optical probe\n",
        "    print('Estimated post position with\\\n",
        "    optical probe pivot calibration: ')\n",
        "    if (np.all(np.fabs(opt_pt_t - opt_pt_c) < err)):\n",
        "        print('Correct!\\n')\n",
        "    else:\n",
        "        print('Out of bounds\\n')\n",
        "\n",
        "    # Checking C_exp values\n",
        "    sum_crr = 0\n",
        "    sum_err = 0\n",
        "    tot = c_exp_t.shape[0] * c_exp_t.shape[1]\n",
        "    for f in range(c_exp_t.shape[0]):\n",
        "        for n in range(c_exp_t.shape[1]):\n",
        "            if (np.all(np.fabs(c_exp_t[f][n] - c_exp_c[f][n]) < err)):\n",
        "              sum_crr += 1\n",
        "            else:\n",
        "              sum_err += 1\n",
        "\n",
        "    print('{:.2f}% of C_exp correct'.format(100 * sum_crr / tot))"
      ],
      "execution_count": 14,
      "outputs": []
    },
    {
      "cell_type": "markdown",
      "metadata": {
        "id": "sPvgjQ_eU6EB"
      },
      "source": [
        "# Main Module\n",
        "\n",
        "Run to perform tests on debug data and export predictions for unknown data."
      ]
    },
    {
      "cell_type": "code",
      "metadata": {
        "colab": {
          "base_uri": "https://localhost:8080/",
          "height": 1000
        },
        "id": "PWjgQS2bVBbI",
        "outputId": "b9fae9ee-082b-4838-e8a0-e4f221f7a1ad"
      },
      "source": [
        "debug_sets = ['pa1-debug-a', 'pa1-debug-b', 'pa1-debug-c', 'pa1-debug-d',\n",
        "              'pa1-debug-e', 'pa1-debug-f', 'pa1-debug-g']\n",
        "\n",
        "unknown_sets = ['pa1-unknown-h', 'pa1-unknown-i', 'pa1-unknown-j']\n",
        "\n",
        "# Run comparisons for debug sets\n",
        "for d in debug_sets:\n",
        "    print(d + '\\n')\n",
        "    em = em_pivot_calibration(d)\n",
        "    op = opt_pivot_calibration(d)\n",
        "    c = give_C_exp(d, False, em_pt=em, opt_pt=op)\n",
        "    out = read_output(d)\n",
        "    test_similarity(out, [em, op, c], 3.25)\n",
        "    print('--------------------------------------------------------')\n",
        "\n",
        "# Export output for unknown sets\n",
        "for d in unknown_sets:\n",
        "    em = em_pivot_calibration(d)\n",
        "    op = opt_pivot_calibration(d)\n",
        "    c = give_C_exp(d, True, em_pt=em, opt_pt=op)"
      ],
      "execution_count": 15,
      "outputs": [
        {
          "output_type": "stream",
          "name": "stdout",
          "text": [
            "pa1-debug-a\n",
            "\n",
            "Estimated post position with    EM probe pivot calibration: \n",
            "Correct!\n",
            "\n",
            "Estimated post position with    optical probe pivot calibration: \n",
            "Correct!\n",
            "\n",
            "100.00% of C_exp correct\n",
            "--------------------------------------------------------\n",
            "pa1-debug-b\n",
            "\n",
            "Estimated post position with    EM probe pivot calibration: \n",
            "Correct!\n",
            "\n",
            "Estimated post position with    optical probe pivot calibration: \n",
            "Correct!\n",
            "\n",
            "100.00% of C_exp correct\n",
            "--------------------------------------------------------\n",
            "pa1-debug-c\n",
            "\n",
            "Estimated post position with    EM probe pivot calibration: \n",
            "Correct!\n",
            "\n",
            "Estimated post position with    optical probe pivot calibration: \n",
            "Correct!\n",
            "\n",
            "100.00% of C_exp correct\n",
            "--------------------------------------------------------\n",
            "pa1-debug-d\n",
            "\n",
            "Estimated post position with    EM probe pivot calibration: \n",
            "Correct!\n",
            "\n",
            "Estimated post position with    optical probe pivot calibration: \n",
            "Correct!\n",
            "\n",
            "100.00% of C_exp correct\n",
            "--------------------------------------------------------\n",
            "pa1-debug-e\n",
            "\n",
            "Estimated post position with    EM probe pivot calibration: \n",
            "Correct!\n",
            "\n",
            "Estimated post position with    optical probe pivot calibration: \n",
            "Correct!\n",
            "\n",
            "99.54% of C_exp correct\n",
            "--------------------------------------------------------\n",
            "pa1-debug-f\n",
            "\n",
            "Estimated post position with    EM probe pivot calibration: \n",
            "Out of bounds\n",
            "\n",
            "Estimated post position with    optical probe pivot calibration: \n",
            "Correct!\n",
            "\n",
            "100.00% of C_exp correct\n",
            "--------------------------------------------------------\n",
            "pa1-debug-g\n",
            "\n",
            "Estimated post position with    EM probe pivot calibration: \n",
            "Correct!\n",
            "\n",
            "Estimated post position with    optical probe pivot calibration: \n",
            "Correct!\n",
            "\n",
            "100.00% of C_exp correct\n",
            "--------------------------------------------------------\n"
          ]
        },
        {
          "output_type": "display_data",
          "data": {
            "application/javascript": [
              "\n",
              "    async function download(id, filename, size) {\n",
              "      if (!google.colab.kernel.accessAllowed) {\n",
              "        return;\n",
              "      }\n",
              "      const div = document.createElement('div');\n",
              "      const label = document.createElement('label');\n",
              "      label.textContent = `Downloading \"${filename}\": `;\n",
              "      div.appendChild(label);\n",
              "      const progress = document.createElement('progress');\n",
              "      progress.max = size;\n",
              "      div.appendChild(progress);\n",
              "      document.body.appendChild(div);\n",
              "\n",
              "      const buffers = [];\n",
              "      let downloaded = 0;\n",
              "\n",
              "      const channel = await google.colab.kernel.comms.open(id);\n",
              "      // Send a message to notify the kernel that we're ready.\n",
              "      channel.send({})\n",
              "\n",
              "      for await (const message of channel.messages) {\n",
              "        // Send a message to notify the kernel that we're ready.\n",
              "        channel.send({})\n",
              "        if (message.buffers) {\n",
              "          for (const buffer of message.buffers) {\n",
              "            buffers.push(buffer);\n",
              "            downloaded += buffer.byteLength;\n",
              "            progress.value = downloaded;\n",
              "          }\n",
              "        }\n",
              "      }\n",
              "      const blob = new Blob(buffers, {type: 'application/binary'});\n",
              "      const a = document.createElement('a');\n",
              "      a.href = window.URL.createObjectURL(blob);\n",
              "      a.download = filename;\n",
              "      div.appendChild(a);\n",
              "      a.click();\n",
              "      div.remove();\n",
              "    }\n",
              "  "
            ],
            "text/plain": [
              "<IPython.core.display.Javascript object>"
            ]
          },
          "metadata": {}
        },
        {
          "output_type": "display_data",
          "data": {
            "application/javascript": [
              "download(\"download_99c5c27e-8de7-433a-b599-d2ebf36f92ed\", \"pa1-unknown-h-output1.txt\", 12176)"
            ],
            "text/plain": [
              "<IPython.core.display.Javascript object>"
            ]
          },
          "metadata": {}
        },
        {
          "output_type": "display_data",
          "data": {
            "application/javascript": [
              "\n",
              "    async function download(id, filename, size) {\n",
              "      if (!google.colab.kernel.accessAllowed) {\n",
              "        return;\n",
              "      }\n",
              "      const div = document.createElement('div');\n",
              "      const label = document.createElement('label');\n",
              "      label.textContent = `Downloading \"${filename}\": `;\n",
              "      div.appendChild(label);\n",
              "      const progress = document.createElement('progress');\n",
              "      progress.max = size;\n",
              "      div.appendChild(progress);\n",
              "      document.body.appendChild(div);\n",
              "\n",
              "      const buffers = [];\n",
              "      let downloaded = 0;\n",
              "\n",
              "      const channel = await google.colab.kernel.comms.open(id);\n",
              "      // Send a message to notify the kernel that we're ready.\n",
              "      channel.send({})\n",
              "\n",
              "      for await (const message of channel.messages) {\n",
              "        // Send a message to notify the kernel that we're ready.\n",
              "        channel.send({})\n",
              "        if (message.buffers) {\n",
              "          for (const buffer of message.buffers) {\n",
              "            buffers.push(buffer);\n",
              "            downloaded += buffer.byteLength;\n",
              "            progress.value = downloaded;\n",
              "          }\n",
              "        }\n",
              "      }\n",
              "      const blob = new Blob(buffers, {type: 'application/binary'});\n",
              "      const a = document.createElement('a');\n",
              "      a.href = window.URL.createObjectURL(blob);\n",
              "      a.download = filename;\n",
              "      div.appendChild(a);\n",
              "      a.click();\n",
              "      div.remove();\n",
              "    }\n",
              "  "
            ],
            "text/plain": [
              "<IPython.core.display.Javascript object>"
            ]
          },
          "metadata": {}
        },
        {
          "output_type": "display_data",
          "data": {
            "application/javascript": [
              "download(\"download_7a517ffe-d3b1-4567-aef0-b543ad7dfa58\", \"pa1-unknown-i-output1.txt\", 12193)"
            ],
            "text/plain": [
              "<IPython.core.display.Javascript object>"
            ]
          },
          "metadata": {}
        },
        {
          "output_type": "display_data",
          "data": {
            "application/javascript": [
              "\n",
              "    async function download(id, filename, size) {\n",
              "      if (!google.colab.kernel.accessAllowed) {\n",
              "        return;\n",
              "      }\n",
              "      const div = document.createElement('div');\n",
              "      const label = document.createElement('label');\n",
              "      label.textContent = `Downloading \"${filename}\": `;\n",
              "      div.appendChild(label);\n",
              "      const progress = document.createElement('progress');\n",
              "      progress.max = size;\n",
              "      div.appendChild(progress);\n",
              "      document.body.appendChild(div);\n",
              "\n",
              "      const buffers = [];\n",
              "      let downloaded = 0;\n",
              "\n",
              "      const channel = await google.colab.kernel.comms.open(id);\n",
              "      // Send a message to notify the kernel that we're ready.\n",
              "      channel.send({})\n",
              "\n",
              "      for await (const message of channel.messages) {\n",
              "        // Send a message to notify the kernel that we're ready.\n",
              "        channel.send({})\n",
              "        if (message.buffers) {\n",
              "          for (const buffer of message.buffers) {\n",
              "            buffers.push(buffer);\n",
              "            downloaded += buffer.byteLength;\n",
              "            progress.value = downloaded;\n",
              "          }\n",
              "        }\n",
              "      }\n",
              "      const blob = new Blob(buffers, {type: 'application/binary'});\n",
              "      const a = document.createElement('a');\n",
              "      a.href = window.URL.createObjectURL(blob);\n",
              "      a.download = filename;\n",
              "      div.appendChild(a);\n",
              "      a.click();\n",
              "      div.remove();\n",
              "    }\n",
              "  "
            ],
            "text/plain": [
              "<IPython.core.display.Javascript object>"
            ]
          },
          "metadata": {}
        },
        {
          "output_type": "display_data",
          "data": {
            "application/javascript": [
              "download(\"download_3dde3af3-3694-4e6b-8862-dfe6455b128b\", \"pa1-unknown-j-output1.txt\", 12085)"
            ],
            "text/plain": [
              "<IPython.core.display.Javascript object>"
            ]
          },
          "metadata": {}
        }
      ]
    },
    {
      "cell_type": "markdown",
      "metadata": {
        "id": "8CDk9vcNZv0Q"
      },
      "source": [
        "RESULTS and ANALYSIS\n"
      ]
    },
    {
      "cell_type": "code",
      "metadata": {
        "id": "8EEKoFw3Jeww",
        "colab": {
          "base_uri": "https://localhost:8080/",
          "height": 1000
        },
        "outputId": "ecfafd36-5c29-49cd-ca1f-c6907eed3fe7"
      },
      "source": [
        "# Function to test similarity between given\n",
        "# output file, computed output values. Outputs\n",
        "# correctness based on error parameter.\n",
        "# @Params: true - list of em and opt coordinates and C_exp values\n",
        "#                 for all frames and markers from given output\n",
        "#          comp - list of em and opt coordinates and C_exp values\n",
        "#                 for all frames and markers from computed output\n",
        "#          err  - maximum difference between any coordinate for an\n",
        "#                 output to be considered correct\n",
        "# @Returns: acc - % of calculated C_exp points determined to be accurate\n",
        "def test_similarity2(true, comp, err):\n",
        "    # Given coordinates\n",
        "    em_pt_t = true[0]\n",
        "    opt_pt_t = true[1]\n",
        "    c_exp_t = true[2]\n",
        "\n",
        "    # Computed coordinates\n",
        "    em_pt_c = comp[0]\n",
        "    opt_pt_c = comp[1]\n",
        "    c_exp_c = comp[2]\n",
        "\n",
        "    # Checking C_exp values\n",
        "    sum_crr = 0\n",
        "    sum_err = 0\n",
        "    tot = c_exp_t.shape[0] * c_exp_t.shape[1]\n",
        "    for f in range(c_exp_t.shape[0]):\n",
        "        for n in range(c_exp_t.shape[1]):\n",
        "            if (np.all(np.fabs(c_exp_t[f][n] - c_exp_c[f][n]) < err)):\n",
        "              sum_crr += 1\n",
        "            else:\n",
        "              sum_err += 1\n",
        "    acc = (100 * sum_crr / tot)\n",
        "    return acc\n",
        "\n",
        "\n",
        "# Function to generate % error vs coordinate threshold value plots\n",
        "# for each debugging set.\n",
        "# @Params: debug - list of debug sets\n",
        "def resultsTables(debug) :\n",
        "  thresholds = [.25, .5, .75, 1, 1.25, 1.5, 1.75, 2, 2.25, 2.5, 2.75, 3, 3.25, 3.5]\n",
        "\n",
        "  for d in range(len(debug)):\n",
        "    inaccuracy = []\n",
        "    acceptableThres = -1\n",
        "    found = False\n",
        "    for thres in thresholds :\n",
        "        em = em_pivot_calibration(debug[d])\n",
        "        op = opt_pivot_calibration(debug[d])\n",
        "        c = give_C_exp(debug[d], False, em_pt=em, opt_pt=op)\n",
        "        out = read_output(debug[d])\n",
        "        inaccurate = 100 - test_similarity2(out, [em, op, c], thres)\n",
        "        if (inaccurate < .5 and found == False) :\n",
        "          acceptableThres = thres\n",
        "          found = True\n",
        "        inaccuracy.append(inaccurate)\n",
        "    plt.figure()\n",
        "    plt.title(debug[d])\n",
        "    plt.xlabel(\"threshold margin for coordinate differences\")\n",
        "    plt.ylabel(\"% of points determined to be incorrect\")\n",
        "    plt.ylim(-.1, 100)\n",
        "    plt.xlim(.25, 3.5)\n",
        "    plt.plot(thresholds, inaccuracy)\n",
        "    print(debug[d], acceptableThres)\n",
        "\n",
        "resultsTables(debug_sets)"
      ],
      "execution_count": 16,
      "outputs": [
        {
          "output_type": "stream",
          "name": "stdout",
          "text": [
            "pa1-debug-a 0.25\n",
            "pa1-debug-b 0.75\n",
            "pa1-debug-c 1\n",
            "pa1-debug-d 0.25\n",
            "pa1-debug-e 3.25\n",
            "pa1-debug-f 3.25\n",
            "pa1-debug-g 2.75\n"
          ]
        },
        {
          "output_type": "display_data",
          "data": {
            "image/png": "[encoded data removed]",
            "text/plain": [
              "<Figure size 432x288 with 1 Axes>"
            ]
          },
          "metadata": {
            "needs_background": "light"
          }
        },
        {
          "output_type": "display_data",
          "data": {
            "image/png": "[encoded data removed]",
            "text/plain": [
              "<Figure size 432x288 with 1 Axes>"
            ]
          },
          "metadata": {
            "needs_background": "light"
          }
        },
        {
          "output_type": "display_data",
          "data": {
            "image/png": "[encoded data removed]",
            "text/plain": [
              "<Figure size 432x288 with 1 Axes>"
            ]
          },
          "metadata": {
            "needs_background": "light"
          }
        },
        {
          "output_type": "display_data",
          "data": {
            "image/png": "[encoded data removed]",
            "text/plain": [
              "<Figure size 432x288 with 1 Axes>"
            ]
          },
          "metadata": {
            "needs_background": "light"
          }
        },
        {
          "output_type": "display_data",
          "data": {
            "image/png": "[encoded data removed]",
            "text/plain": [
              "<Figure size 432x288 with 1 Axes>"
            ]
          },
          "metadata": {
            "needs_background": "light"
          }
        },
        {
          "output_type": "display_data",
          "data": {
            "image/png": "[encoded data removed]",
            "text/plain": [
              "<Figure size 432x288 with 1 Axes>"
            ]
          },
          "metadata": {
            "needs_background": "light"
          }
        },
        {
          "output_type": "display_data",
          "data": {
            "image/png": "[encoded data removed]",
            "text/plain": [
              "<Figure size 432x288 with 1 Axes>"
            ]
          },
          "metadata": {
            "needs_background": "light"
          }
        }
      ]
    },
    {
      "cell_type": "markdown",
      "metadata": {
        "id": "7D4ZPJudtq-G"
      },
      "source": [
        "# Contributions\n",
        "\n",
        "## Seby\n",
        "\n",
        "\n",
        "*   developed proficiency with a Cartesian math package for 3D points rotations, and frame transformations. (1)\n",
        "*   documented functionality and variable significance\n",
        "* developed results methods, analysis and figures\n",
        "\n",
        "\n",
        "## Alex\n",
        "\n",
        "\n",
        "*   developed proficiency with a Cartesian math package for 3D points rotations, and frame transformations. (1)\n",
        "*   created Frame object with transformation functionality. (1)\n",
        "*   developed algorithm for 3D-3D registration. (2)\n",
        "*   developed method for pivot calibration using sphere fitting. (3)\n",
        "*   developed method for problem 4 (description above). (4)\n",
        "*   developed method for problem 5 (description above). (5)\n",
        "*   developed method for problem 6 (description above). (6)\n",
        "*   developed methods for reading in files for application. (4-6)\n",
        "*   created unit tests for all output files. (4-6)\n",
        "*   commenting functions/modules. (all)\n",
        "\n"
      ]
    },
    {
      "cell_type": "markdown",
      "metadata": {
        "id": "USVArJ28dcga"
      },
      "source": [
        "# Computer Integrated Surgery: Programming Assignment 2\n",
        "\n",
        "In this assignment, you will fit polynomials to model distortion and then use these polynomials to “dewarp” the EM tracker space. You will use the dewarped EM tracker space to repeat your pivot calibration. Then you will use the resulting calibration to compute registration to a CT coordinate system. Finally, given some pointer data frames, you will report corresponding CT coordinates."
      ]
    },
    {
      "cell_type": "markdown",
      "metadata": {
        "id": "MV6BSGL_ddxD"
      },
      "source": [
        "## Part 1\n",
        "\n",
        "Input the body calibration data file and process it to determine the values of $\\overrightarrow{C}_i^{(expected)}[k]$ corresponding to each $\\overrightarrow{C}_i[k]$ in each “frame” $k$ of data."
      ]
    },
    {
      "cell_type": "code",
      "metadata": {
        "id": "DD499nLad-ur",
        "colab": {
          "base_uri": "https://localhost:8080/"
        },
        "outputId": "72868aae-f665-4136-82ec-913497565404"
      },
      "source": [
        "# Running code from PA1\n",
        "debug_sets = ['pa2-debug-a', 'pa2-debug-b', 'pa2-debug-c',\n",
        "              'pa2-debug-d', 'pa2-debug-e', 'pa2-debug-f']\n",
        "\n",
        "unknown_sets = ['pa2-unknown-g', 'pa2-unknown-h',\n",
        "                'pa2-unknown-i', 'pa2-unknown-j']\n",
        "\n",
        "# Run comparisons for debug sets\n",
        "for d in debug_sets:\n",
        "    print(d + '\\n')\n",
        "    em = em_pivot_calibration(d)\n",
        "    op = opt_pivot_calibration(d)\n",
        "    c = give_C_exp(d, False, em_pt=em, opt_pt=op)\n",
        "    out = read_output(d)\n",
        "    test_similarity(out, [em, op, c], 2)\n",
        "    print('--------------------------------------------------------')"
      ],
      "execution_count": 17,
      "outputs": [
        {
          "output_type": "stream",
          "name": "stdout",
          "text": [
            "pa2-debug-a\n",
            "\n",
            "Estimated post position with    EM probe pivot calibration: \n",
            "Correct!\n",
            "\n",
            "Estimated post position with    optical probe pivot calibration: \n",
            "Correct!\n",
            "\n",
            "100.00% of C_exp correct\n",
            "--------------------------------------------------------\n",
            "pa2-debug-b\n",
            "\n",
            "Estimated post position with    EM probe pivot calibration: \n",
            "Correct!\n",
            "\n",
            "Estimated post position with    optical probe pivot calibration: \n",
            "Correct!\n",
            "\n",
            "100.00% of C_exp correct\n",
            "--------------------------------------------------------\n",
            "pa2-debug-c\n",
            "\n",
            "Estimated post position with    EM probe pivot calibration: \n",
            "Correct!\n",
            "\n",
            "Estimated post position with    optical probe pivot calibration: \n",
            "Correct!\n",
            "\n",
            "99.94% of C_exp correct\n",
            "--------------------------------------------------------\n",
            "pa2-debug-d\n",
            "\n",
            "Estimated post position with    EM probe pivot calibration: \n",
            "Correct!\n",
            "\n",
            "Estimated post position with    optical probe pivot calibration: \n",
            "Correct!\n",
            "\n",
            "100.00% of C_exp correct\n",
            "--------------------------------------------------------\n",
            "pa2-debug-e\n",
            "\n",
            "Estimated post position with    EM probe pivot calibration: \n",
            "Out of bounds\n",
            "\n",
            "Estimated post position with    optical probe pivot calibration: \n",
            "Correct!\n",
            "\n",
            "88.44% of C_exp correct\n",
            "--------------------------------------------------------\n",
            "pa2-debug-f\n",
            "\n",
            "Estimated post position with    EM probe pivot calibration: \n",
            "Out of bounds\n",
            "\n",
            "Estimated post position with    optical probe pivot calibration: \n",
            "Correct!\n",
            "\n",
            "76.74% of C_exp correct\n",
            "--------------------------------------------------------\n"
          ]
        }
      ]
    },
    {
      "cell_type": "markdown",
      "metadata": {
        "id": "HZWw4DxMrshn"
      },
      "source": [
        "# File I/O Methods for PA2"
      ]
    },
    {
      "cell_type": "code",
      "metadata": {
        "id": "z9lqQq4xru7V"
      },
      "source": [
        "# Function to read the file describing CT fiducial coordinates b.\n",
        "# @Params:  name     - name of data set being used\n",
        "# @Returns: list of the following:\n",
        "#           b_coords - coordinates of fiducials (b) N X 3 ndarray\n",
        "def read_ctfiducials(name):\n",
        "    path = \"https://raw.githubusercontent.com/SeanSDarcy2001/CISProgrammingAssignments/main/data/\" + name + \"-ct-fiducials.txt\"\n",
        "    dat = pd.read_csv(path)\n",
        "\n",
        "    N_B, FILE = dat.columns\n",
        "    N_B = int(N_B)\n",
        "\n",
        "    dat.reset_index(level=0, inplace=True)\n",
        "    dat = dat.to_numpy()\n",
        "    b_coords = dat[0:N_B,   0:3]\n",
        "\n",
        "    # Outputs list of fiducial landmarks x coords\n",
        "    return [b_coords]\n",
        "        \n",
        "# Function to read the file that describes frames of data in which the probe\n",
        "# is in contact with the corresponding CT fiducials.\n",
        "# @Params:  name     - name of data set being used\n",
        "# @Returns: list of the following:\n",
        "#           G_coords - coordinates of G F X N_G X 3 ndarray\n",
        "def read_emfiducials(name):\n",
        "    path = \"https://raw.githubusercontent.com/SeanSDarcy2001/CISProgrammingAssignments/main/data/\" + name + \"-em-fiducialss.txt\"\n",
        "    dat = pd.read_csv(path)\n",
        "\n",
        "    N_G, N_B, FILE = dat.columns\n",
        "    N_G = int(N_G)\n",
        "    N_B = int(float(N_B))\n",
        "\n",
        "    dat = dat.to_numpy()\n",
        "    G_coords = np.array([dat[0:N_G,   0:3]])\n",
        "    for n in range(1, N_B):\n",
        "        G_coords = np.append(G_coords,\n",
        "                  np.array([dat[((n*N_G)):((n*N_G) + N_G),       0:3]]),\n",
        "                  axis=0)\n",
        "\n",
        "    # Outputs frames x EM marker points x coords\n",
        "    return [G_coords]\n",
        "        \n",
        "# Function to read the file that describes frames of data\n",
        "# defining test points.\n",
        "# @Params:  name     - name of data set being used\n",
        "# @Returns: list of the following:\n",
        "#           G_coords - coordinates of G F X N_G X 3 ndarray\n",
        "def read_emnav(name):\n",
        "    path = \"https://raw.githubusercontent.com/SeanSDarcy2001/CISProgrammingAssignments/main/data/\" + name + \"-EM-nav.txt\"\n",
        "    dat = pd.read_csv(path)\n",
        "\n",
        "    N_G, N_F, FILE = dat.columns\n",
        "    N_G = int(N_G)\n",
        "    N_F = int(float(N_F))\n",
        "\n",
        "    dat = dat.to_numpy()\n",
        "    G_coords = np.array([dat[0:N_G,   0:3]])\n",
        "    for n in range(1, N_F):\n",
        "        G_coords = np.append(G_coords,\n",
        "                  np.array([dat[((n*N_G)):((n*N_G) + N_G),       0:3]]),\n",
        "                  axis=0)\n",
        "\n",
        "    # Outputs frames x EM marker points x coords\n",
        "    return [G_coords]\n",
        "\n",
        "# Function ro read file that gives positions of probe tip\n",
        "# in CT coordinates, corresponding to the frames of data\n",
        "# in NAME-EM-NAV.TXT.\n",
        "# @Params:  name      - name of data set being used\n",
        "# @Returns: list of the following:\n",
        "#           v_coords  - coordinates of the probe tip in CT coordinates the\n",
        "#                   for each frame: F X 3 ndarray\n",
        "def read_output2(name):\n",
        "    path = \"https://raw.githubusercontent.com/SeanSDarcy2001/CISProgrammingAssignments/main/data/\" + name + \"-output2.txt\"\n",
        "    dat = pd.read_csv(path)\n",
        "\n",
        "    N_F, FILE = dat.columns\n",
        "    N_F = int(N_F)\n",
        "\n",
        "    dat.reset_index(level=0, inplace=True)\n",
        "    dat = dat.to_numpy()\n",
        "    v_coords = dat[0:N_F,   0:3]\n",
        "\n",
        "    # Outputs list of frames x coords\n",
        "    return [v_coords]\n",
        "\n",
        "# Function to write all output2 data to a text file.\n",
        "# @Params: name        - name of the file\n",
        "#           v_coords  - coordinates of the probe tip in CT coordinates the\n",
        "#                   for each frame: F X 3 ndarray\n",
        "def write_output2(name, v_coords):\n",
        "    path = name + '-output2.txt'\n",
        "    with open(path, 'w') as f:\n",
        "        f.write('{}, {}\\n'.format(v_coords.shape[0], path))\n",
        "        cw = csv.writer(f, delimiter=',')\n",
        "        for frame in range(v_coords.shape[0]):\n",
        "            cw.writerow(v_coords[frame])\n",
        "    files.download(path)"
      ],
      "execution_count": 18,
      "outputs": []
    },
    {
      "cell_type": "markdown",
      "metadata": {
        "id": "XMfROp2peCV7"
      },
      "source": [
        "## Part 2\n",
        "\n",
        "Use the method described in class to produce a suitable distortion correction function."
      ]
    },
    {
      "cell_type": "code",
      "metadata": {
        "id": "g3gxSMXVX54F"
      },
      "source": [
        "import scipy.special as sp\n",
        "import scipy\n",
        "\n",
        "# Function to scale values in q to a bounding box\n",
        "# @Params: q - an ndarray of dimensions n x 3\n",
        "# @Return: u - a scaled ndarray of dimensions n x 3\n",
        "# def ScaleToBox(q):\n",
        "#     q_min = np.min(q, axis=0)\n",
        "#     q_max = np.max(q, axis=0)\n",
        "\n",
        "#     u = (q - q_min) / (q_max - q_min)\n",
        "\n",
        "#     return u\n",
        "def ScaleToBox(q, q_min, q_max):\n",
        "    u = np.zeros(q.shape)\n",
        "    for i in range(q.shape[0]):\n",
        "        for c in range(3):\n",
        "            u[i,c] = (q[i,c] - q_min[c]) / (q_max[c] - q_min[c])\n",
        "\n",
        "    return u\n",
        "\n",
        "# Testing of ScaleToBox function\n",
        "# r = read_ctfiducials('pa2-debug-a')\n",
        "# print(r)\n",
        "# print(ScaleToBox(r))\n",
        "\n",
        "# Function to compute the fifth degree Bernstein\n",
        "# polynomial.\n",
        "# @Params: v   - argument for computation\n",
        "# @Return: sum - 5th order polynomial\n",
        "def B(v, k, N=5):\n",
        "    return (sp.binom(N, k) * ((1-v)**(N-k)) * ((v)**k))\n",
        "\n",
        "# @Param: u - scaled values returned by sensor\n",
        "def compute_distortion(p, q, q_min, q_max, N=5):\n",
        "    # Scale sensor values \n",
        "    u = ScaleToBox(q, q_min, q_max)\n",
        "\n",
        "    # Define dimensions of F array\n",
        "    S = p.shape[0]\n",
        "    N = (N+1)**3\n",
        "\n",
        "    F = np.zeros((S, N))\n",
        "    # Setting up least squares problem\n",
        "    for s in range(S):\n",
        "        u_x = u[s, 0]\n",
        "        u_y = u[s, 1]\n",
        "        u_z = u[s, 2]\n",
        "\n",
        "        ind = 0\n",
        "        for i in range(5+1):\n",
        "            for j in range(5+1):\n",
        "                for k in range(5+1):\n",
        "                    F[s][ind] = B(u_x,i) * B(u_y,j) * B(u_z,k)\n",
        "                    ind += 1\n",
        "\n",
        "    # Perform least squares\n",
        "    c = scipy.linalg.lstsq(F,p)[0]\n",
        "    # c = np.linalg.inv(F.T @ F) @ F.T @ p\n",
        "\n",
        "    # Return c's\n",
        "    return c\n",
        "\n",
        "def correct_distortion(x, name, N=5):\n",
        "    # Load in c_exp ground truth and distorted c\n",
        "    c_exp = give_C_exp(name)\n",
        "    p = c_exp.reshape(c_exp.shape[0] * c_exp.shape[1], 3)\n",
        "\n",
        "    C = read_calreadings(name)[2]\n",
        "    q = C.reshape(C.shape[0] * C.shape[1], 3)\n",
        "\n",
        "    # Compute scaling box bounds\n",
        "    q_min = np.min(q, axis=0)\n",
        "    q_max = np.max(q, axis=0)\n",
        "\n",
        "    # Compute distortion correction\n",
        "    c = compute_distortion(p, q, q_min, q_max)\n",
        "\n",
        "    # Scale sensor values\n",
        "    u = ScaleToBox(x, q_min, q_max)\n",
        "\n",
        "    # Apply correction to find \"ground truth\"\n",
        "    r = np.zeros((u.shape[0], 3))\n",
        "    for s in range(u.shape[0]):\n",
        "        sum = 0\n",
        "        u_x = u[s, 0]\n",
        "        u_y = u[s, 1]\n",
        "        u_z = u[s, 2]\n",
        "\n",
        "        for i in range(N+1):\n",
        "            for j in range(N+1):\n",
        "                for k in range(N+1):\n",
        "                    sum += B(u_x,i) * B(u_y,j) * B(u_z,k) * c[i*36 + j*6 + k]\n",
        "\n",
        "        r[s] = sum\n",
        "\n",
        "    return r"
      ],
      "execution_count": 19,
      "outputs": []
    },
    {
      "cell_type": "markdown",
      "metadata": {
        "id": "2pfjBcL4eETZ"
      },
      "source": [
        "## Part 3\n",
        "\n",
        "Use this distortion correction function to repeat your “pivot calibration” for the EM probe."
      ]
    },
    {
      "cell_type": "code",
      "metadata": {
        "id": "0whXA_9gX6Z1"
      },
      "source": [
        "def em_pivot_calib_raw(G, nf, ng, ptip=True):\n",
        "    # Use the first \"frame\" of pivot calibration data to define\n",
        "    # a local \"probe\" coordinate system.\n",
        "    first_frame = G[0]\n",
        "    G_0 = np.zeros((1, 3))\n",
        "    for j in range(ng):\n",
        "        G_0 += first_frame[j]\n",
        "    G_0 /= ng\n",
        "\n",
        "    # Now compute g_j\n",
        "    g = np.zeros((ng, 3))\n",
        "    for j in range(ng):\n",
        "        g[j] = first_frame[j] - G_0\n",
        "\n",
        "    # Compute F_G transforms using rigid registration\n",
        "    F_G = np.zeros((1, 4, 4))\n",
        "    for k in range(nf):\n",
        "        F_G = np.append(F_G,\n",
        "                        np.array([rigid_registration(g, G[k]).getFrame()]),\n",
        "                        axis=0)\n",
        "        \n",
        "    if (ptip):\n",
        "        em_pt = (pivotCalibration(F_G[1:,:,:]))[0] # p_tip\n",
        "    else:\n",
        "        em_pt = (pivotCalibration(F_G[1:,:,:]))[1] # p_dimple for debugging\n",
        "        print('DEBUG: dimple given')\n",
        "\n",
        "    return em_pt\n",
        "\n",
        "# Function to apply EM tracking data to perform a \"pivot calibration\"\n",
        "# of the EM tracking probe following distortion correction.\n",
        "# @Params: name    - name of data set being used\n",
        "# @Returns: em_pts - coordinates of EM probe wr/ EM tracker\n",
        "def em_pivot_calibration_distortion_correction(name, ptip=True):\n",
        "    em_data = read_empivot(name)\n",
        "    G = em_data[0]\n",
        "    nf = G.shape[0]\n",
        "    ng = G.shape[1]\n",
        "\n",
        "    # Dewarp EM tracker space\n",
        "    G_ = G.reshape(nf * ng, 3)\n",
        "    G = correct_distortion(G_, name).reshape(nf, ng, 3)\n",
        "\n",
        "    return em_pivot_calib_raw(G, nf, ng, ptip=ptip)"
      ],
      "execution_count": 20,
      "outputs": []
    },
    {
      "cell_type": "code",
      "metadata": {
        "id": "ueKrWnS3X6wR",
        "colab": {
          "base_uri": "https://localhost:8080/"
        },
        "outputId": "5609c3be-c60a-463f-fd31-c609c3764340"
      },
      "source": [
        "d = 'pa2-debug-c'\n",
        "\n",
        "x = em_pivot_calibration(d)\n",
        "y = em_pivot_calibration_distortion_correction(d, ptip=False)\n",
        "z = read_output(d)[0]\n",
        "\n",
        "print(x)\n",
        "print(y)\n",
        "print(z)\n",
        "\n",
        "c = give_C_exp(d, False, em_pt=em, opt_pt=op)\n",
        "out = read_output(d)\n",
        "test_similarity(out, [em, op, c], .5)"
      ],
      "execution_count": 21,
      "outputs": [
        {
          "output_type": "stream",
          "name": "stdout",
          "text": [
            "DEBUG: dimple given\n",
            "[206.86036797 199.3041258  207.98028754]\n",
            "[207.36857147 199.32992755 207.69715773]\n",
            "[207.38 199.33 207.69]\n",
            "Estimated post position with    EM probe pivot calibration: \n",
            "Out of bounds\n",
            "\n",
            "Estimated post position with    optical probe pivot calibration: \n",
            "Out of bounds\n",
            "\n",
            "77.93% of C_exp correct\n"
          ]
        }
      ]
    },
    {
      "cell_type": "markdown",
      "metadata": {
        "id": "afs1fSOteFhi"
      },
      "source": [
        "## Part 4\n",
        "\n",
        "Using the distortion correction and the improved pivot value, compute the locations of the $\\overrightarrow{b}_j$ fiducials points with respect to the EM tracker base coordinate system."
      ]
    },
    {
      "cell_type": "code",
      "metadata": {
        "id": "pElAqKtqn_3z"
      },
      "source": [
        "def locate_fiducials_em(name):\n",
        "    # Obtain fiducial locations in CT coordinates\n",
        "    b = read_ctfiducials(name)[0]\n",
        "    nf = b.shape[0] # number of fiducials\n",
        "\n",
        "    # Obtain G locations for fiducials and dewarp\n",
        "    bEM = read_emfiducials(name)[0]\n",
        "    ng = bEM.shape[1] # number of points per fidicual\n",
        "\n",
        "    # Dewarp\n",
        "    bEM = bEM.reshape(nf * ng, 3)\n",
        "    bEM = correct_distortion(bEM, name).reshape(nf, ng, 3)\n",
        "\n",
        "    # Obtain pivot value\n",
        "    p_tip = em_pivot_calibration_distortion_correction(name)\n",
        "\n",
        "    B = np.zeros(b.shape)\n",
        "    for i in range(nf):\n",
        "        # Current fiducial\n",
        "        b_coords = b[i]\n",
        "        G = bEM[i]\n",
        "        ng = G.shape[0]\n",
        "        \n",
        "        # Use the first \"frame\" of pivot calibration data to define\n",
        "        # a local \"probe\" coordinate system.\n",
        "        first_frame = read_empivot(name)[0][0] #G\n",
        "        G_0 = np.zeros((1, 3))\n",
        "        for j in range(ng):\n",
        "            G_0 += first_frame[j]\n",
        "        G_0 /= ng\n",
        "\n",
        "        # Now compute g_j\n",
        "        g = np.zeros((ng, 3))\n",
        "        for j in range(ng):\n",
        "            g[j] = first_frame[j] - G_0\n",
        "\n",
        "        # Compute F_G transforms using rigid registration\n",
        "        # per b_j\n",
        "        F_ptr = rigid_registration(g, G)\n",
        "        B[i] = (F_ptr.appFrame(homogenousVector(p_tip, 1))[:3])\n",
        "\n",
        "    return [B]"
      ],
      "execution_count": 22,
      "outputs": []
    },
    {
      "cell_type": "markdown",
      "metadata": {
        "id": "2IN42rWyeG8V"
      },
      "source": [
        "## Part 5\n",
        "\n",
        "Compute the registration frame $F_{reg}$."
      ]
    },
    {
      "cell_type": "code",
      "metadata": {
        "id": "FL1c-ObXX7MG"
      },
      "source": [
        "def comp_F_reg(name):\n",
        "    F_reg = rigid_registration(locate_fiducials_em(name)[0], read_ctfiducials(name)[0])\n",
        "\n",
        "    # print(\"CT FIDS\")\n",
        "    # print(read_ctfiducials(name)[0])\n",
        "\n",
        "    # print(\"EM FIDS\")\n",
        "    # for f in locate_fiducials_em(name)[0]:\n",
        "    #     # print(f)\n",
        "    #     print(F_reg.appFrame(homogenousVector(f, 1))[:3])\n",
        "    return F_reg"
      ],
      "execution_count": 23,
      "outputs": []
    },
    {
      "cell_type": "code",
      "metadata": {
        "colab": {
          "base_uri": "https://localhost:8080/"
        },
        "id": "3AAz1IO2XGbx",
        "outputId": "53a89021-231b-4576-b5ae-f332e1a17b76"
      },
      "source": [
        "d = 'pa2-debug-a'\n",
        "\n",
        "em = em_pivot_calibration(d)\n",
        "op = opt_pivot_calibration(d)\n",
        "c = give_C_exp(d, False, em_pt=em, opt_pt=op)\n",
        "v = nav_to_CT_coords(d)\n",
        "out = read_output2(d)\n",
        "\n",
        "print(\"V\")\n",
        "print(v)\n",
        "\n",
        "print(\"OUT\")\n",
        "print(out[0])\n",
        "\n",
        "test2_similarity2(out, [v], 10)"
      ],
      "execution_count": 28,
      "outputs": [
        {
          "output_type": "stream",
          "name": "stdout",
          "text": [
            "V\n",
            "[[148.3251629  118.97468448  43.20017373]\n",
            " [ 76.25879367 116.05687305 152.64152261]\n",
            " [ 36.90150769 148.37030436 170.97627661]\n",
            " [ 75.8047078   75.61426728 172.00382188]]\n",
            "OUT\n",
            "[[148.33 118.97  43.2 ]\n",
            " [ 76.26 116.06 152.64]\n",
            " [ 36.9  148.38 170.97]\n",
            " [ 75.8   75.62 172.  ]]\n",
            "100.00% of v_i correct\n"
          ]
        }
      ]
    },
    {
      "cell_type": "markdown",
      "metadata": {
        "id": "lopPMmnDeIde"
      },
      "source": [
        "## Part 6\n",
        "\n",
        "Apply the distortion correction to all the subsequent values of $[\\overrightarrow{G}_1, ..., \\overrightarrow{G}_{N_G}]$, compute the pointer tip coordinates with respect to the tracker base, and apply $F_{reg}$ to compute the tip location with respect to the CT image."
      ]
    },
    {
      "cell_type": "code",
      "metadata": {
        "id": "WcVaWLRdX7le"
      },
      "source": [
        "def nav_to_CT_coords(name):\n",
        "    # Fetch F_reg\n",
        "    F_reg = comp_F_reg(name)\n",
        "\n",
        "    # Read in em nav test points\n",
        "    Gt = read_emnav(name)[0]\n",
        "    nf = Gt.shape[0]\n",
        "    ng = Gt.shape[1]\n",
        "\n",
        "    # Dewarp point values\n",
        "    Gt_ = Gt.reshape(nf * ng, 3)\n",
        "    Gt = correct_distortion(Gt_, name).reshape(nf, ng, 3)\n",
        "\n",
        "    # Fetch p_tip\n",
        "    p_tip = em_pivot_calibration_distortion_correction(name)\n",
        "\n",
        "    # Compute the pointer tip coordinates\n",
        "    # with respect to the tracker base\n",
        "    tips = np.zeros((nf, 3))\n",
        "    for i in range(nf):\n",
        "        G = Gt[i]\n",
        "        \n",
        "        # Use the first \"frame\" of pivot calibration data to define\n",
        "        # a local \"probe\" coordinate system.\n",
        "        first_frame = read_empivot(name)[0][0] #G\n",
        "        G_0 = np.zeros((1, 3))\n",
        "        for j in range(ng):\n",
        "            G_0 += first_frame[j]\n",
        "        G_0 /= ng\n",
        "\n",
        "        # Now compute g_j\n",
        "        g = np.zeros((ng, 3))\n",
        "        for j in range(ng):\n",
        "            g[j] = first_frame[j] - G_0\n",
        "\n",
        "        # Compute F_reg transforms using rigid registration\n",
        "        # per navigation test point\n",
        "        F_ptr = rigid_registration(g, G)\n",
        "        tip = F_ptr.appFrame(homogenousVector(p_tip, 1))\n",
        "        tips[i] = (F_reg.appFrame(tip)[:3])\n",
        "    \n",
        "    return tips"
      ],
      "execution_count": 25,
      "outputs": []
    },
    {
      "cell_type": "markdown",
      "metadata": {
        "id": "GUKnE9TdobQb"
      },
      "source": [
        "# Output Test\n",
        "\n",
        "Performs comparison between output files and computed output."
      ]
    },
    {
      "cell_type": "code",
      "metadata": {
        "id": "o4NuJabRokB5"
      },
      "source": [
        "# Function to test similarity between given\n",
        "# output2 file, computed output values. Outputs\n",
        "# correctness based on error parameter.\n",
        "# @Params: true - list of v_i values\n",
        "#                 for all frames and markers from given output\n",
        "#          comp - list of v_i values\n",
        "#                 for all frames and markers from computed output\n",
        "#          err  - maximum difference between any coordinate for an\n",
        "#                 output to be considered correct\n",
        "def test2_similarity2(true, comp, err):\n",
        "    # Given coordinates\n",
        "    v_t = true[0]\n",
        "\n",
        "    # Computed coordinates\n",
        "    v_c = comp[0]\n",
        "\n",
        "    # Checking C_exp values\n",
        "    sum_crr = 0\n",
        "    sum_err = 0\n",
        "    tot = v_t.shape[0] * v_t.shape[1]\n",
        "    for f in range(v_t.shape[0]):\n",
        "        for n in range(v_t.shape[1]):\n",
        "            if (np.all(np.fabs(v_t[f][n] - v_c[f][n]) < err)):\n",
        "              sum_crr += 1\n",
        "            else:\n",
        "              sum_err += 1\n",
        "\n",
        "    print('{:.2f}% of v_i correct'.format(100 * sum_crr / tot))"
      ],
      "execution_count": 27,
      "outputs": []
    },
    {
      "cell_type": "markdown",
      "metadata": {
        "id": "VDpCyI3JmiFi"
      },
      "source": [
        "# Main Module\n",
        "\n",
        "Run to perform tests on debug data and export predictions for unknown data."
      ]
    },
    {
      "cell_type": "code",
      "metadata": {
        "colab": {
          "base_uri": "https://localhost:8080/",
          "height": 1000
        },
        "id": "QAGpnuy2mqpE",
        "outputId": "ab04bdf5-d41d-4fb6-da8f-f5e56a5ec05b"
      },
      "source": [
        "# Redefine PA2 sets\n",
        "debug_sets = ['pa2-debug-a', 'pa2-debug-b', 'pa2-debug-c',\n",
        "              'pa2-debug-d', 'pa2-debug-e', 'pa2-debug-f']\n",
        "\n",
        "unknown_sets = ['pa2-unknown-g', 'pa2-unknown-h',\n",
        "                'pa2-unknown-i', 'pa2-unknown-j']\n",
        "\n",
        "# Run comparisons for debug sets\n",
        "for d in debug_sets:\n",
        "    print(d + '\\n')\n",
        "    em = em_pivot_calibration(d)\n",
        "    op = opt_pivot_calibration(d)\n",
        "    c = give_C_exp(d, False, em_pt=em, opt_pt=op)\n",
        "    out = read_output(d)\n",
        "    test_similarity(out, [em, op, c], 2)\n",
        "\n",
        "    v = nav_to_CT_coords(d)\n",
        "    \n",
        "    print(\"V\")\n",
        "    print(v)\n",
        "    \n",
        "    write_output2(d, v)\n",
        "    out = read_output2(d)\n",
        "\n",
        "    print(\"OUT\")\n",
        "    print(out)\n",
        "\n",
        "    test2_similarity2(out, [v], 10)\n",
        "    print('--------------------------------------------------------')\n",
        "\n",
        "# Export output for unknown sets\n",
        "for d in unknown_sets:\n",
        "    em = em_pivot_calibration(d)\n",
        "    op = opt_pivot_calibration(d)\n",
        "    c = give_C_exp(d, True, em_pt=em, opt_pt=op)\n",
        "    v = nav_to_CT_coords(d)\n",
        "    write_output2(d, v)"
      ],
      "execution_count": 29,
      "outputs": [
        {
          "output_type": "stream",
          "name": "stdout",
          "text": [
            "pa2-debug-a\n",
            "\n",
            "Estimated post position with    EM probe pivot calibration: \n",
            "Correct!\n",
            "\n",
            "Estimated post position with    optical probe pivot calibration: \n",
            "Correct!\n",
            "\n",
            "100.00% of C_exp correct\n",
            "V\n",
            "[[148.3251629  118.97468448  43.20017373]\n",
            " [ 76.25879367 116.05687305 152.64152261]\n",
            " [ 36.90150769 148.37030436 170.97627661]\n",
            " [ 75.8047078   75.61426728 172.00382188]]\n"
          ]
        },
        {
          "output_type": "display_data",
          "data": {
            "application/javascript": [
              "\n",
              "    async function download(id, filename, size) {\n",
              "      if (!google.colab.kernel.accessAllowed) {\n",
              "        return;\n",
              "      }\n",
              "      const div = document.createElement('div');\n",
              "      const label = document.createElement('label');\n",
              "      label.textContent = `Downloading \"${filename}\": `;\n",
              "      div.appendChild(label);\n",
              "      const progress = document.createElement('progress');\n",
              "      progress.max = size;\n",
              "      div.appendChild(progress);\n",
              "      document.body.appendChild(div);\n",
              "\n",
              "      const buffers = [];\n",
              "      let downloaded = 0;\n",
              "\n",
              "      const channel = await google.colab.kernel.comms.open(id);\n",
              "      // Send a message to notify the kernel that we're ready.\n",
              "      channel.send({})\n",
              "\n",
              "      for await (const message of channel.messages) {\n",
              "        // Send a message to notify the kernel that we're ready.\n",
              "        channel.send({})\n",
              "        if (message.buffers) {\n",
              "          for (const buffer of message.buffers) {\n",
              "            buffers.push(buffer);\n",
              "            downloaded += buffer.byteLength;\n",
              "            progress.value = downloaded;\n",
              "          }\n",
              "        }\n",
              "      }\n",
              "      const blob = new Blob(buffers, {type: 'application/binary'});\n",
              "      const a = document.createElement('a');\n",
              "      a.href = window.URL.createObjectURL(blob);\n",
              "      a.download = filename;\n",
              "      div.appendChild(a);\n",
              "      a.click();\n",
              "      div.remove();\n",
              "    }\n",
              "  "
            ],
            "text/plain": [
              "<IPython.core.display.Javascript object>"
            ]
          },
          "metadata": {}
        },
        {
          "output_type": "display_data",
          "data": {
            "application/javascript": [
              "download(\"download_b87d15dd-61fa-4d37-bde6-fc4b1ce9659b\", \"pa2-debug-a-output2.txt\", 249)"
            ],
            "text/plain": [
              "<IPython.core.display.Javascript object>"
            ]
          },
          "metadata": {}
        },
        {
          "output_type": "stream",
          "name": "stdout",
          "text": [
            "OUT\n",
            "[array([[148.33, 118.97,  43.2 ],\n",
            "       [ 76.26, 116.06, 152.64],\n",
            "       [ 36.9 , 148.38, 170.97],\n",
            "       [ 75.8 ,  75.62, 172.  ]])]\n",
            "100.00% of v_i correct\n",
            "--------------------------------------------------------\n",
            "pa2-debug-b\n",
            "\n",
            "Estimated post position with    EM probe pivot calibration: \n",
            "Correct!\n",
            "\n",
            "Estimated post position with    optical probe pivot calibration: \n",
            "Correct!\n",
            "\n",
            "100.00% of C_exp correct\n",
            "V\n",
            "[[ 89.23951653  84.14857762 170.90886063]\n",
            " [ 39.55327946 163.42834961 157.59793117]\n",
            " [117.79383132 156.1854034   81.80364237]\n",
            " [ 35.08691053  36.12390359 134.62533449]]\n"
          ]
        },
        {
          "output_type": "display_data",
          "data": {
            "application/javascript": [
              "\n",
              "    async function download(id, filename, size) {\n",
              "      if (!google.colab.kernel.accessAllowed) {\n",
              "        return;\n",
              "      }\n",
              "      const div = document.createElement('div');\n",
              "      const label = document.createElement('label');\n",
              "      label.textContent = `Downloading \"${filename}\": `;\n",
              "      div.appendChild(label);\n",
              "      const progress = document.createElement('progress');\n",
              "      progress.max = size;\n",
              "      div.appendChild(progress);\n",
              "      document.body.appendChild(div);\n",
              "\n",
              "      const buffers = [];\n",
              "      let downloaded = 0;\n",
              "\n",
              "      const channel = await google.colab.kernel.comms.open(id);\n",
              "      // Send a message to notify the kernel that we're ready.\n",
              "      channel.send({})\n",
              "\n",
              "      for await (const message of channel.messages) {\n",
              "        // Send a message to notify the kernel that we're ready.\n",
              "        channel.send({})\n",
              "        if (message.buffers) {\n",
              "          for (const buffer of message.buffers) {\n",
              "            buffers.push(buffer);\n",
              "            downloaded += buffer.byteLength;\n",
              "            progress.value = downloaded;\n",
              "          }\n",
              "        }\n",
              "      }\n",
              "      const blob = new Blob(buffers, {type: 'application/binary'});\n",
              "      const a = document.createElement('a');\n",
              "      a.href = window.URL.createObjectURL(blob);\n",
              "      a.download = filename;\n",
              "      div.appendChild(a);\n",
              "      a.click();\n",
              "      div.remove();\n",
              "    }\n",
              "  "
            ],
            "text/plain": [
              "<IPython.core.display.Javascript object>"
            ]
          },
          "metadata": {}
        },
        {
          "output_type": "display_data",
          "data": {
            "application/javascript": [
              "download(\"download_46874ff5-3b3e-471b-bd36-8dc1be073dd5\", \"pa2-debug-b-output2.txt\", 252)"
            ],
            "text/plain": [
              "<IPython.core.display.Javascript object>"
            ]
          },
          "metadata": {}
        },
        {
          "output_type": "stream",
          "name": "stdout",
          "text": [
            "OUT\n",
            "[array([[ 89.36,  84.06, 170.89],\n",
            "       [ 39.49, 163.5 , 157.59],\n",
            "       [117.8 , 156.28,  81.82],\n",
            "       [ 35.05,  36.12, 134.66]])]\n",
            "100.00% of v_i correct\n",
            "--------------------------------------------------------\n",
            "pa2-debug-c\n",
            "\n",
            "Estimated post position with    EM probe pivot calibration: \n",
            "Correct!\n",
            "\n",
            "Estimated post position with    optical probe pivot calibration: \n",
            "Correct!\n",
            "\n",
            "99.94% of C_exp correct\n",
            "V\n",
            "[[ 91.76356915  88.67008456 161.37417127]\n",
            " [ 46.40212984 130.75443748  99.1566983 ]\n",
            " [127.89031044  95.65388004 172.43168571]\n",
            " [107.2242621   64.20545177  39.33333655]]\n"
          ]
        },
        {
          "output_type": "display_data",
          "data": {
            "application/javascript": [
              "\n",
              "    async function download(id, filename, size) {\n",
              "      if (!google.colab.kernel.accessAllowed) {\n",
              "        return;\n",
              "      }\n",
              "      const div = document.createElement('div');\n",
              "      const label = document.createElement('label');\n",
              "      label.textContent = `Downloading \"${filename}\": `;\n",
              "      div.appendChild(label);\n",
              "      const progress = document.createElement('progress');\n",
              "      progress.max = size;\n",
              "      div.appendChild(progress);\n",
              "      document.body.appendChild(div);\n",
              "\n",
              "      const buffers = [];\n",
              "      let downloaded = 0;\n",
              "\n",
              "      const channel = await google.colab.kernel.comms.open(id);\n",
              "      // Send a message to notify the kernel that we're ready.\n",
              "      channel.send({})\n",
              "\n",
              "      for await (const message of channel.messages) {\n",
              "        // Send a message to notify the kernel that we're ready.\n",
              "        channel.send({})\n",
              "        if (message.buffers) {\n",
              "          for (const buffer of message.buffers) {\n",
              "            buffers.push(buffer);\n",
              "            downloaded += buffer.byteLength;\n",
              "            progress.value = downloaded;\n",
              "          }\n",
              "        }\n",
              "      }\n",
              "      const blob = new Blob(buffers, {type: 'application/binary'});\n",
              "      const a = document.createElement('a');\n",
              "      a.href = window.URL.createObjectURL(blob);\n",
              "      a.download = filename;\n",
              "      div.appendChild(a);\n",
              "      a.click();\n",
              "      div.remove();\n",
              "    }\n",
              "  "
            ],
            "text/plain": [
              "<IPython.core.display.Javascript object>"
            ]
          },
          "metadata": {}
        },
        {
          "output_type": "display_data",
          "data": {
            "application/javascript": [
              "download(\"download_a06d9e17-7723-4bd7-92cb-cd161fa2896a\", \"pa2-debug-c-output2.txt\", 251)"
            ],
            "text/plain": [
              "<IPython.core.display.Javascript object>"
            ]
          },
          "metadata": {}
        },
        {
          "output_type": "stream",
          "name": "stdout",
          "text": [
            "OUT\n",
            "[array([[ 91.58,  88.22, 161.13],\n",
            "       [ 45.84, 130.7 ,  99.31],\n",
            "       [127.69,  96.27, 171.75],\n",
            "       [106.51,  64.04,  39.39]])]\n",
            "100.00% of v_i correct\n",
            "--------------------------------------------------------\n",
            "pa2-debug-d\n",
            "\n",
            "Estimated post position with    EM probe pivot calibration: \n",
            "Correct!\n",
            "\n",
            "Estimated post position with    optical probe pivot calibration: \n",
            "Correct!\n",
            "\n",
            "100.00% of C_exp correct\n",
            "V\n",
            "[[125.32518485 148.45258965  50.20073723]\n",
            " [105.36688665  79.75401103  97.6995074 ]\n",
            " [162.47871538  32.46658496  47.74599179]\n",
            " [ 47.11641888 138.05589373  27.11862211]]\n"
          ]
        },
        {
          "output_type": "display_data",
          "data": {
            "application/javascript": [
              "\n",
              "    async function download(id, filename, size) {\n",
              "      if (!google.colab.kernel.accessAllowed) {\n",
              "        return;\n",
              "      }\n",
              "      const div = document.createElement('div');\n",
              "      const label = document.createElement('label');\n",
              "      label.textContent = `Downloading \"${filename}\": `;\n",
              "      div.appendChild(label);\n",
              "      const progress = document.createElement('progress');\n",
              "      progress.max = size;\n",
              "      div.appendChild(progress);\n",
              "      document.body.appendChild(div);\n",
              "\n",
              "      const buffers = [];\n",
              "      let downloaded = 0;\n",
              "\n",
              "      const channel = await google.colab.kernel.comms.open(id);\n",
              "      // Send a message to notify the kernel that we're ready.\n",
              "      channel.send({})\n",
              "\n",
              "      for await (const message of channel.messages) {\n",
              "        // Send a message to notify the kernel that we're ready.\n",
              "        channel.send({})\n",
              "        if (message.buffers) {\n",
              "          for (const buffer of message.buffers) {\n",
              "            buffers.push(buffer);\n",
              "            downloaded += buffer.byteLength;\n",
              "            progress.value = downloaded;\n",
              "          }\n",
              "        }\n",
              "      }\n",
              "      const blob = new Blob(buffers, {type: 'application/binary'});\n",
              "      const a = document.createElement('a');\n",
              "      a.href = window.URL.createObjectURL(blob);\n",
              "      a.download = filename;\n",
              "      div.appendChild(a);\n",
              "      a.click();\n",
              "      div.remove();\n",
              "    }\n",
              "  "
            ],
            "text/plain": [
              "<IPython.core.display.Javascript object>"
            ]
          },
          "metadata": {}
        },
        {
          "output_type": "display_data",
          "data": {
            "application/javascript": [
              "download(\"download_ea691d16-8eda-40c3-b1b5-d0c0815c5596\", \"pa2-debug-d-output2.txt\", 250)"
            ],
            "text/plain": [
              "<IPython.core.display.Javascript object>"
            ]
          },
          "metadata": {}
        },
        {
          "output_type": "stream",
          "name": "stdout",
          "text": [
            "OUT\n",
            "[array([[125.32, 148.45,  50.2 ],\n",
            "       [105.36,  79.75,  97.7 ],\n",
            "       [162.48,  32.46,  47.75],\n",
            "       [ 47.11, 138.06,  27.11]])]\n",
            "100.00% of v_i correct\n",
            "--------------------------------------------------------\n",
            "pa2-debug-e\n",
            "\n",
            "Estimated post position with    EM probe pivot calibration: \n",
            "Out of bounds\n",
            "\n",
            "Estimated post position with    optical probe pivot calibration: \n",
            "Correct!\n",
            "\n",
            "88.44% of C_exp correct\n",
            "V\n",
            "[[157.43608368  67.46462696 119.85655655]\n",
            " [ 88.49121091  79.25645919  79.59474194]\n",
            " [ 31.45390314 169.723626    96.91536408]\n",
            " [ 72.39255598  36.56807898  70.11965818]]\n"
          ]
        },
        {
          "output_type": "display_data",
          "data": {
            "application/javascript": [
              "\n",
              "    async function download(id, filename, size) {\n",
              "      if (!google.colab.kernel.accessAllowed) {\n",
              "        return;\n",
              "      }\n",
              "      const div = document.createElement('div');\n",
              "      const label = document.createElement('label');\n",
              "      label.textContent = `Downloading \"${filename}\": `;\n",
              "      div.appendChild(label);\n",
              "      const progress = document.createElement('progress');\n",
              "      progress.max = size;\n",
              "      div.appendChild(progress);\n",
              "      document.body.appendChild(div);\n",
              "\n",
              "      const buffers = [];\n",
              "      let downloaded = 0;\n",
              "\n",
              "      const channel = await google.colab.kernel.comms.open(id);\n",
              "      // Send a message to notify the kernel that we're ready.\n",
              "      channel.send({})\n",
              "\n",
              "      for await (const message of channel.messages) {\n",
              "        // Send a message to notify the kernel that we're ready.\n",
              "        channel.send({})\n",
              "        if (message.buffers) {\n",
              "          for (const buffer of message.buffers) {\n",
              "            buffers.push(buffer);\n",
              "            downloaded += buffer.byteLength;\n",
              "            progress.value = downloaded;\n",
              "          }\n",
              "        }\n",
              "      }\n",
              "      const blob = new Blob(buffers, {type: 'application/binary'});\n",
              "      const a = document.createElement('a');\n",
              "      a.href = window.URL.createObjectURL(blob);\n",
              "      a.download = filename;\n",
              "      div.appendChild(a);\n",
              "      a.click();\n",
              "      div.remove();\n",
              "    }\n",
              "  "
            ],
            "text/plain": [
              "<IPython.core.display.Javascript object>"
            ]
          },
          "metadata": {}
        },
        {
          "output_type": "display_data",
          "data": {
            "application/javascript": [
              "download(\"download_9efc7434-4960-40d4-81d3-b9bc54671aef\", \"pa2-debug-e-output2.txt\", 248)"
            ],
            "text/plain": [
              "<IPython.core.display.Javascript object>"
            ]
          },
          "metadata": {}
        },
        {
          "output_type": "stream",
          "name": "stdout",
          "text": [
            "OUT\n",
            "[array([[162.54,  75.83, 117.41],\n",
            "       [ 85.95,  79.76,  84.7 ],\n",
            "       [ 46.12, 169.36,  99.29],\n",
            "       [ 66.75,  45.67,  74.91]])]\n",
            "91.67% of v_i correct\n",
            "--------------------------------------------------------\n",
            "pa2-debug-f\n",
            "\n",
            "Estimated post position with    EM probe pivot calibration: \n",
            "Out of bounds\n",
            "\n",
            "Estimated post position with    optical probe pivot calibration: \n",
            "Correct!\n",
            "\n",
            "76.74% of C_exp correct\n",
            "V\n",
            "[[115.23089869  31.30096907 137.91077547]\n",
            " [ 42.06777847 170.8106765   55.51399122]\n",
            " [ 38.95336803  62.62688012  59.59946697]\n",
            " [ 65.9460657  132.02145978  90.23447058]]\n"
          ]
        },
        {
          "output_type": "display_data",
          "data": {
            "application/javascript": [
              "\n",
              "    async function download(id, filename, size) {\n",
              "      if (!google.colab.kernel.accessAllowed) {\n",
              "        return;\n",
              "      }\n",
              "      const div = document.createElement('div');\n",
              "      const label = document.createElement('label');\n",
              "      label.textContent = `Downloading \"${filename}\": `;\n",
              "      div.appendChild(label);\n",
              "      const progress = document.createElement('progress');\n",
              "      progress.max = size;\n",
              "      div.appendChild(progress);\n",
              "      document.body.appendChild(div);\n",
              "\n",
              "      const buffers = [];\n",
              "      let downloaded = 0;\n",
              "\n",
              "      const channel = await google.colab.kernel.comms.open(id);\n",
              "      // Send a message to notify the kernel that we're ready.\n",
              "      channel.send({})\n",
              "\n",
              "      for await (const message of channel.messages) {\n",
              "        // Send a message to notify the kernel that we're ready.\n",
              "        channel.send({})\n",
              "        if (message.buffers) {\n",
              "          for (const buffer of message.buffers) {\n",
              "            buffers.push(buffer);\n",
              "            downloaded += buffer.byteLength;\n",
              "            progress.value = downloaded;\n",
              "          }\n",
              "        }\n",
              "      }\n",
              "      const blob = new Blob(buffers, {type: 'application/binary'});\n",
              "      const a = document.createElement('a');\n",
              "      a.href = window.URL.createObjectURL(blob);\n",
              "      a.download = filename;\n",
              "      div.appendChild(a);\n",
              "      a.click();\n",
              "      div.remove();\n",
              "    }\n",
              "  "
            ],
            "text/plain": [
              "<IPython.core.display.Javascript object>"
            ]
          },
          "metadata": {}
        },
        {
          "output_type": "display_data",
          "data": {
            "application/javascript": [
              "download(\"download_0ebf231f-08e8-496b-91a3-a66bb7b0c0eb\", \"pa2-debug-f-output2.txt\", 251)"
            ],
            "text/plain": [
              "<IPython.core.display.Javascript object>"
            ]
          },
          "metadata": {}
        },
        {
          "output_type": "stream",
          "name": "stdout",
          "text": [
            "OUT\n",
            "[array([[116.28,  32.7 , 139.46],\n",
            "       [ 41.21, 171.9 ,  54.37],\n",
            "       [ 40.91,  60.94,  58.9 ],\n",
            "       [ 65.44, 133.55,  90.05]])]\n",
            "100.00% of v_i correct\n",
            "--------------------------------------------------------\n"
          ]
        },
        {
          "output_type": "display_data",
          "data": {
            "application/javascript": [
              "\n",
              "    async function download(id, filename, size) {\n",
              "      if (!google.colab.kernel.accessAllowed) {\n",
              "        return;\n",
              "      }\n",
              "      const div = document.createElement('div');\n",
              "      const label = document.createElement('label');\n",
              "      label.textContent = `Downloading \"${filename}\": `;\n",
              "      div.appendChild(label);\n",
              "      const progress = document.createElement('progress');\n",
              "      progress.max = size;\n",
              "      div.appendChild(progress);\n",
              "      document.body.appendChild(div);\n",
              "\n",
              "      const buffers = [];\n",
              "      let downloaded = 0;\n",
              "\n",
              "      const channel = await google.colab.kernel.comms.open(id);\n",
              "      // Send a message to notify the kernel that we're ready.\n",
              "      channel.send({})\n",
              "\n",
              "      for await (const message of channel.messages) {\n",
              "        // Send a message to notify the kernel that we're ready.\n",
              "        channel.send({})\n",
              "        if (message.buffers) {\n",
              "          for (const buffer of message.buffers) {\n",
              "            buffers.push(buffer);\n",
              "            downloaded += buffer.byteLength;\n",
              "            progress.value = downloaded;\n",
              "          }\n",
              "        }\n",
              "      }\n",
              "      const blob = new Blob(buffers, {type: 'application/binary'});\n",
              "      const a = document.createElement('a');\n",
              "      a.href = window.URL.createObjectURL(blob);\n",
              "      a.download = filename;\n",
              "      div.appendChild(a);\n",
              "      a.click();\n",
              "      div.remove();\n",
              "    }\n",
              "  "
            ],
            "text/plain": [
              "<IPython.core.display.Javascript object>"
            ]
          },
          "metadata": {}
        },
        {
          "output_type": "display_data",
          "data": {
            "application/javascript": [
              "download(\"download_b8f8af17-8f7e-4d5d-ae93-671e9c01fe0b\", \"pa2-unknown-g-output1.txt\", 187987)"
            ],
            "text/plain": [
              "<IPython.core.display.Javascript object>"
            ]
          },
          "metadata": {}
        },
        {
          "output_type": "display_data",
          "data": {
            "application/javascript": [
              "\n",
              "    async function download(id, filename, size) {\n",
              "      if (!google.colab.kernel.accessAllowed) {\n",
              "        return;\n",
              "      }\n",
              "      const div = document.createElement('div');\n",
              "      const label = document.createElement('label');\n",
              "      label.textContent = `Downloading \"${filename}\": `;\n",
              "      div.appendChild(label);\n",
              "      const progress = document.createElement('progress');\n",
              "      progress.max = size;\n",
              "      div.appendChild(progress);\n",
              "      document.body.appendChild(div);\n",
              "\n",
              "      const buffers = [];\n",
              "      let downloaded = 0;\n",
              "\n",
              "      const channel = await google.colab.kernel.comms.open(id);\n",
              "      // Send a message to notify the kernel that we're ready.\n",
              "      channel.send({})\n",
              "\n",
              "      for await (const message of channel.messages) {\n",
              "        // Send a message to notify the kernel that we're ready.\n",
              "        channel.send({})\n",
              "        if (message.buffers) {\n",
              "          for (const buffer of message.buffers) {\n",
              "            buffers.push(buffer);\n",
              "            downloaded += buffer.byteLength;\n",
              "            progress.value = downloaded;\n",
              "          }\n",
              "        }\n",
              "      }\n",
              "      const blob = new Blob(buffers, {type: 'application/binary'});\n",
              "      const a = document.createElement('a');\n",
              "      a.href = window.URL.createObjectURL(blob);\n",
              "      a.download = filename;\n",
              "      div.appendChild(a);\n",
              "      a.click();\n",
              "      div.remove();\n",
              "    }\n",
              "  "
            ],
            "text/plain": [
              "<IPython.core.display.Javascript object>"
            ]
          },
          "metadata": {}
        },
        {
          "output_type": "display_data",
          "data": {
            "application/javascript": [
              "download(\"download_e1d882a6-b36d-4344-a35e-491c904d1ccc\", \"pa2-unknown-g-output2.txt\", 250)"
            ],
            "text/plain": [
              "<IPython.core.display.Javascript object>"
            ]
          },
          "metadata": {}
        },
        {
          "output_type": "display_data",
          "data": {
            "application/javascript": [
              "\n",
              "    async function download(id, filename, size) {\n",
              "      if (!google.colab.kernel.accessAllowed) {\n",
              "        return;\n",
              "      }\n",
              "      const div = document.createElement('div');\n",
              "      const label = document.createElement('label');\n",
              "      label.textContent = `Downloading \"${filename}\": `;\n",
              "      div.appendChild(label);\n",
              "      const progress = document.createElement('progress');\n",
              "      progress.max = size;\n",
              "      div.appendChild(progress);\n",
              "      document.body.appendChild(div);\n",
              "\n",
              "      const buffers = [];\n",
              "      let downloaded = 0;\n",
              "\n",
              "      const channel = await google.colab.kernel.comms.open(id);\n",
              "      // Send a message to notify the kernel that we're ready.\n",
              "      channel.send({})\n",
              "\n",
              "      for await (const message of channel.messages) {\n",
              "        // Send a message to notify the kernel that we're ready.\n",
              "        channel.send({})\n",
              "        if (message.buffers) {\n",
              "          for (const buffer of message.buffers) {\n",
              "            buffers.push(buffer);\n",
              "            downloaded += buffer.byteLength;\n",
              "            progress.value = downloaded;\n",
              "          }\n",
              "        }\n",
              "      }\n",
              "      const blob = new Blob(buffers, {type: 'application/binary'});\n",
              "      const a = document.createElement('a');\n",
              "      a.href = window.URL.createObjectURL(blob);\n",
              "      a.download = filename;\n",
              "      div.appendChild(a);\n",
              "      a.click();\n",
              "      div.remove();\n",
              "    }\n",
              "  "
            ],
            "text/plain": [
              "<IPython.core.display.Javascript object>"
            ]
          },
          "metadata": {}
        },
        {
          "output_type": "display_data",
          "data": {
            "application/javascript": [
              "download(\"download_9665a34a-3546-4e23-8e09-687e2b4e2a44\", \"pa2-unknown-h-output1.txt\", 187825)"
            ],
            "text/plain": [
              "<IPython.core.display.Javascript object>"
            ]
          },
          "metadata": {}
        },
        {
          "output_type": "display_data",
          "data": {
            "application/javascript": [
              "\n",
              "    async function download(id, filename, size) {\n",
              "      if (!google.colab.kernel.accessAllowed) {\n",
              "        return;\n",
              "      }\n",
              "      const div = document.createElement('div');\n",
              "      const label = document.createElement('label');\n",
              "      label.textContent = `Downloading \"${filename}\": `;\n",
              "      div.appendChild(label);\n",
              "      const progress = document.createElement('progress');\n",
              "      progress.max = size;\n",
              "      div.appendChild(progress);\n",
              "      document.body.appendChild(div);\n",
              "\n",
              "      const buffers = [];\n",
              "      let downloaded = 0;\n",
              "\n",
              "      const channel = await google.colab.kernel.comms.open(id);\n",
              "      // Send a message to notify the kernel that we're ready.\n",
              "      channel.send({})\n",
              "\n",
              "      for await (const message of channel.messages) {\n",
              "        // Send a message to notify the kernel that we're ready.\n",
              "        channel.send({})\n",
              "        if (message.buffers) {\n",
              "          for (const buffer of message.buffers) {\n",
              "            buffers.push(buffer);\n",
              "            downloaded += buffer.byteLength;\n",
              "            progress.value = downloaded;\n",
              "          }\n",
              "        }\n",
              "      }\n",
              "      const blob = new Blob(buffers, {type: 'application/binary'});\n",
              "      const a = document.createElement('a');\n",
              "      a.href = window.URL.createObjectURL(blob);\n",
              "      a.download = filename;\n",
              "      div.appendChild(a);\n",
              "      a.click();\n",
              "      div.remove();\n",
              "    }\n",
              "  "
            ],
            "text/plain": [
              "<IPython.core.display.Javascript object>"
            ]
          },
          "metadata": {}
        },
        {
          "output_type": "display_data",
          "data": {
            "application/javascript": [
              "download(\"download_ccae9542-70e7-4456-96c5-e65a01ad7928\", \"pa2-unknown-h-output2.txt\", 256)"
            ],
            "text/plain": [
              "<IPython.core.display.Javascript object>"
            ]
          },
          "metadata": {}
        },
        {
          "output_type": "display_data",
          "data": {
            "application/javascript": [
              "\n",
              "    async function download(id, filename, size) {\n",
              "      if (!google.colab.kernel.accessAllowed) {\n",
              "        return;\n",
              "      }\n",
              "      const div = document.createElement('div');\n",
              "      const label = document.createElement('label');\n",
              "      label.textContent = `Downloading \"${filename}\": `;\n",
              "      div.appendChild(label);\n",
              "      const progress = document.createElement('progress');\n",
              "      progress.max = size;\n",
              "      div.appendChild(progress);\n",
              "      document.body.appendChild(div);\n",
              "\n",
              "      const buffers = [];\n",
              "      let downloaded = 0;\n",
              "\n",
              "      const channel = await google.colab.kernel.comms.open(id);\n",
              "      // Send a message to notify the kernel that we're ready.\n",
              "      channel.send({})\n",
              "\n",
              "      for await (const message of channel.messages) {\n",
              "        // Send a message to notify the kernel that we're ready.\n",
              "        channel.send({})\n",
              "        if (message.buffers) {\n",
              "          for (const buffer of message.buffers) {\n",
              "            buffers.push(buffer);\n",
              "            downloaded += buffer.byteLength;\n",
              "            progress.value = downloaded;\n",
              "          }\n",
              "        }\n",
              "      }\n",
              "      const blob = new Blob(buffers, {type: 'application/binary'});\n",
              "      const a = document.createElement('a');\n",
              "      a.href = window.URL.createObjectURL(blob);\n",
              "      a.download = filename;\n",
              "      div.appendChild(a);\n",
              "      a.click();\n",
              "      div.remove();\n",
              "    }\n",
              "  "
            ],
            "text/plain": [
              "<IPython.core.display.Javascript object>"
            ]
          },
          "metadata": {}
        },
        {
          "output_type": "display_data",
          "data": {
            "application/javascript": [
              "download(\"download_86157ba7-e82d-40e4-a520-61c4985d8098\", \"pa2-unknown-i-output1.txt\", 188070)"
            ],
            "text/plain": [
              "<IPython.core.display.Javascript object>"
            ]
          },
          "metadata": {}
        },
        {
          "output_type": "display_data",
          "data": {
            "application/javascript": [
              "\n",
              "    async function download(id, filename, size) {\n",
              "      if (!google.colab.kernel.accessAllowed) {\n",
              "        return;\n",
              "      }\n",
              "      const div = document.createElement('div');\n",
              "      const label = document.createElement('label');\n",
              "      label.textContent = `Downloading \"${filename}\": `;\n",
              "      div.appendChild(label);\n",
              "      const progress = document.createElement('progress');\n",
              "      progress.max = size;\n",
              "      div.appendChild(progress);\n",
              "      document.body.appendChild(div);\n",
              "\n",
              "      const buffers = [];\n",
              "      let downloaded = 0;\n",
              "\n",
              "      const channel = await google.colab.kernel.comms.open(id);\n",
              "      // Send a message to notify the kernel that we're ready.\n",
              "      channel.send({})\n",
              "\n",
              "      for await (const message of channel.messages) {\n",
              "        // Send a message to notify the kernel that we're ready.\n",
              "        channel.send({})\n",
              "        if (message.buffers) {\n",
              "          for (const buffer of message.buffers) {\n",
              "            buffers.push(buffer);\n",
              "            downloaded += buffer.byteLength;\n",
              "            progress.value = downloaded;\n",
              "          }\n",
              "        }\n",
              "      }\n",
              "      const blob = new Blob(buffers, {type: 'application/binary'});\n",
              "      const a = document.createElement('a');\n",
              "      a.href = window.URL.createObjectURL(blob);\n",
              "      a.download = filename;\n",
              "      div.appendChild(a);\n",
              "      a.click();\n",
              "      div.remove();\n",
              "    }\n",
              "  "
            ],
            "text/plain": [
              "<IPython.core.display.Javascript object>"
            ]
          },
          "metadata": {}
        },
        {
          "output_type": "display_data",
          "data": {
            "application/javascript": [
              "download(\"download_855c11e9-7f19-4efe-a1d2-9cfc7a7b61d3\", \"pa2-unknown-i-output2.txt\", 250)"
            ],
            "text/plain": [
              "<IPython.core.display.Javascript object>"
            ]
          },
          "metadata": {}
        },
        {
          "output_type": "display_data",
          "data": {
            "application/javascript": [
              "\n",
              "    async function download(id, filename, size) {\n",
              "      if (!google.colab.kernel.accessAllowed) {\n",
              "        return;\n",
              "      }\n",
              "      const div = document.createElement('div');\n",
              "      const label = document.createElement('label');\n",
              "      label.textContent = `Downloading \"${filename}\": `;\n",
              "      div.appendChild(label);\n",
              "      const progress = document.createElement('progress');\n",
              "      progress.max = size;\n",
              "      div.appendChild(progress);\n",
              "      document.body.appendChild(div);\n",
              "\n",
              "      const buffers = [];\n",
              "      let downloaded = 0;\n",
              "\n",
              "      const channel = await google.colab.kernel.comms.open(id);\n",
              "      // Send a message to notify the kernel that we're ready.\n",
              "      channel.send({})\n",
              "\n",
              "      for await (const message of channel.messages) {\n",
              "        // Send a message to notify the kernel that we're ready.\n",
              "        channel.send({})\n",
              "        if (message.buffers) {\n",
              "          for (const buffer of message.buffers) {\n",
              "            buffers.push(buffer);\n",
              "            downloaded += buffer.byteLength;\n",
              "            progress.value = downloaded;\n",
              "          }\n",
              "        }\n",
              "      }\n",
              "      const blob = new Blob(buffers, {type: 'application/binary'});\n",
              "      const a = document.createElement('a');\n",
              "      a.href = window.URL.createObjectURL(blob);\n",
              "      a.download = filename;\n",
              "      div.appendChild(a);\n",
              "      a.click();\n",
              "      div.remove();\n",
              "    }\n",
              "  "
            ],
            "text/plain": [
              "<IPython.core.display.Javascript object>"
            ]
          },
          "metadata": {}
        },
        {
          "output_type": "display_data",
          "data": {
            "application/javascript": [
              "download(\"download_72ccbeda-2f1f-4866-b5e6-5a2e46ba9b65\", \"pa2-unknown-j-output1.txt\", 187873)"
            ],
            "text/plain": [
              "<IPython.core.display.Javascript object>"
            ]
          },
          "metadata": {}
        },
        {
          "output_type": "display_data",
          "data": {
            "application/javascript": [
              "\n",
              "    async function download(id, filename, size) {\n",
              "      if (!google.colab.kernel.accessAllowed) {\n",
              "        return;\n",
              "      }\n",
              "      const div = document.createElement('div');\n",
              "      const label = document.createElement('label');\n",
              "      label.textContent = `Downloading \"${filename}\": `;\n",
              "      div.appendChild(label);\n",
              "      const progress = document.createElement('progress');\n",
              "      progress.max = size;\n",
              "      div.appendChild(progress);\n",
              "      document.body.appendChild(div);\n",
              "\n",
              "      const buffers = [];\n",
              "      let downloaded = 0;\n",
              "\n",
              "      const channel = await google.colab.kernel.comms.open(id);\n",
              "      // Send a message to notify the kernel that we're ready.\n",
              "      channel.send({})\n",
              "\n",
              "      for await (const message of channel.messages) {\n",
              "        // Send a message to notify the kernel that we're ready.\n",
              "        channel.send({})\n",
              "        if (message.buffers) {\n",
              "          for (const buffer of message.buffers) {\n",
              "            buffers.push(buffer);\n",
              "            downloaded += buffer.byteLength;\n",
              "            progress.value = downloaded;\n",
              "          }\n",
              "        }\n",
              "      }\n",
              "      const blob = new Blob(buffers, {type: 'application/binary'});\n",
              "      const a = document.createElement('a');\n",
              "      a.href = window.URL.createObjectURL(blob);\n",
              "      a.download = filename;\n",
              "      div.appendChild(a);\n",
              "      a.click();\n",
              "      div.remove();\n",
              "    }\n",
              "  "
            ],
            "text/plain": [
              "<IPython.core.display.Javascript object>"
            ]
          },
          "metadata": {}
        },
        {
          "output_type": "display_data",
          "data": {
            "application/javascript": [
              "download(\"download_2a62a88c-aa14-45e8-b1f1-07c85bef935c\", \"pa2-unknown-j-output2.txt\", 255)"
            ],
            "text/plain": [
              "<IPython.core.display.Javascript object>"
            ]
          },
          "metadata": {}
        }
      ]
    },
    {
      "cell_type": "markdown",
      "metadata": {
        "id": "73TSHLGRX_W5"
      },
      "source": [
        "# Contributions\n",
        "\n",
        "## Seby\n",
        "\n",
        "\n",
        "*  Researched algorithm methods for each part. (all)\n",
        "\n",
        "\n",
        "## Alex\n",
        "\n",
        "\n",
        "*   Wrote File I/O for PA2. (all)\n",
        "*   Developed distortion correction function and dependencies. (2)\n",
        "*   Developed modified pivot calibration of EM probe. (3)\n",
        "*   Wrote code to compute location of fiducial landmarks with respect to EM tracker system. (4)\n",
        "*   Function to compute $F_{reg}$. (5)\n",
        "*   Applied $F_{reg}$ to other values to conver to CT coordinates. (6)\n",
        "*   Created test suite for PA2. (all)\n"
      ]
    }
  ]
}